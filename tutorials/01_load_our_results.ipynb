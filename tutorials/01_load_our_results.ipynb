{
 "cells": [
  {
   "cell_type": "markdown",
   "id": "6c00ee78",
   "metadata": {},
   "source": [
    "# Loading our results \n",
    "This tutorial explains how to load the results that were published with our paper. The data can be found [here](https://doi.org/10.18126/unc8-336t). In this tutorial we'll use a snippet of that data, which contains a few tens of species that have experimental data. The next tutorial will show how to load results that you run on your own molecules!"
   ]
  },
  {
   "cell_type": "markdown",
   "id": "74411dd5",
   "metadata": {},
   "source": [
    "Let's first start with imports:"
   ]
  },
  {
   "cell_type": "code",
   "execution_count": 1,
   "id": "014dbf2e",
   "metadata": {},
   "outputs": [
    {
     "data": {
      "application/vnd.jupyter.widget-view+json": {
       "model_id": "c109593f2a2843dfaef892fa935aade8",
       "version_major": 2,
       "version_minor": 0
      },
      "text/plain": []
     },
     "metadata": {},
     "output_type": "display_data"
    }
   ],
   "source": [
    "%load_ext autoreload\n",
    "%autoreload 2\n",
    "\n",
    "import pickle\n",
    "import nglview as nv\n"
   ]
  },
  {
   "cell_type": "markdown",
   "id": "9b4323ec",
   "metadata": {},
   "source": [
    "There are three types of files that we can load. The file ending with `.json` contains detailed information about transition states (TSs), singlet-triplet crossings, etc., but does not contain any geometries. The two files ending with `.pickle` contain the most important summary data bout TSs and crossings, plus the actual geometries.\n",
    "\n",
    "In the file ending with `_atoms.pickle`, the geometries are represented as [ASE](https://wiki.fysik.dtu.dk/ase/) atoms. In the file ending with `_xyz.pickle`, the geometries are given in the `xyz` format.\n",
    "\n",
    "Let's load the file with ASE atoms objects:"
   ]
  },
  {
   "cell_type": "code",
   "execution_count": 2,
   "id": "441b03ab",
   "metadata": {},
   "outputs": [],
   "source": [
    "with open(\"data/ts_query_atoms.pickle\", 'rb') as f:\n",
    "    info = pickle.load(f)\n"
   ]
  },
  {
   "cell_type": "markdown",
   "id": "123158f1",
   "metadata": {},
   "source": [
    "The keys in the dictionary are SMILES strings (we use the *cis* isomer for each species):"
   ]
  },
  {
   "cell_type": "code",
   "execution_count": 7,
   "id": "ee5fa54a",
   "metadata": {},
   "outputs": [
    {
     "name": "stdout",
     "output_type": "stream",
     "text": [
      "Fc1ccccc1/N=N\\c1ccccc1F\n"
     ]
    }
   ],
   "source": [
    "keys = list(info.keys())\n",
    "key = keys[0]\n",
    "print(key)"
   ]
  },
  {
   "cell_type": "markdown",
   "id": "0d5a55a0",
   "metadata": {},
   "source": [
    "Each value is a sub-dictionary with results:"
   ]
  },
  {
   "cell_type": "code",
   "execution_count": 8,
   "id": "e3375b2a",
   "metadata": {},
   "outputs": [
    {
     "data": {
      "text/plain": [
       "dict_keys(['results_by_mechanism', 'summary'])"
      ]
     },
     "metadata": {},
     "output_type": "display_data"
    }
   ],
   "source": [
    "sub_dic = info[key]\n",
    "display(sub_dic.keys())"
   ]
  },
  {
   "cell_type": "markdown",
   "id": "416b2c55",
   "metadata": {},
   "source": [
    "`results_by_mechanism` has results for each of the four mechanisms for each species. Let's see what it looks like:"
   ]
  },
  {
   "cell_type": "code",
   "execution_count": 9,
   "id": "e349f798",
   "metadata": {},
   "outputs": [
    {
     "data": {
      "text/plain": [
       "dict_keys(['trans', 'cis'])"
      ]
     },
     "metadata": {},
     "output_type": "display_data"
    },
    {
     "data": {
      "text/plain": [
       "dict_keys(['s_t_crossing', 'ts'])"
      ]
     },
     "metadata": {},
     "output_type": "display_data"
    }
   ],
   "source": [
    "display(sub_dic['results_by_mechanism'].keys())\n",
    "display(sub_dic['results_by_mechanism']['cis'].keys())"
   ]
  },
  {
   "cell_type": "markdown",
   "id": "46f4dd29",
   "metadata": {},
   "source": [
    "`results_by_mechanism` is divided into *cis* and *trans*. These provide activation free energies (and energies, enthalpies, etc.) relative to the *cis* and *trans* isomers, respectively. The classical activation free energies are in `ts`, while the effective activation free energies from intersystem crossing are in `s_t_crossing`.\n",
    "\n",
    "Let's look at the classical transition states (TSs) first:"
   ]
  },
  {
   "cell_type": "code",
   "execution_count": 15,
   "id": "ba493925",
   "metadata": {},
   "outputs": [
    {
     "name": "stdout",
     "output_type": "stream",
     "text": [
      "<class 'list'>\n",
      "4\n"
     ]
    },
    {
     "data": {
      "text/plain": [
       "['ts_geom_id',\n",
       " 'endpoint_geom_id',\n",
       " 'delta_free_energy',\n",
       " 'delta_energy',\n",
       " 'delta_enthalpy',\n",
       " 'delta_conf_free_energy',\n",
       " 'delta_avg_conf_energy',\n",
       " 'delta_entropy_j_mol_k',\n",
       " 'delta_conf_entropy_j_mol_k',\n",
       " 'delta_vib_entropy_j_mol_k',\n",
       " 'endpoint_conf_free_energy',\n",
       " 'ts_conf_free_energy',\n",
       " 'ts_atoms',\n",
       " 'endpoint_atoms']"
      ]
     },
     "metadata": {},
     "output_type": "display_data"
    }
   ],
   "source": [
    "cis_dic = sub_dic['results_by_mechanism']['cis']\n",
    "ts_list = cis_dic['ts']\n",
    "\n",
    "print(type(ts_list))\n",
    "print(len(ts_list))\n",
    "display(list(ts_list[0].keys()))"
   ]
  },
  {
   "cell_type": "markdown",
   "id": "426bedb4",
   "metadata": {},
   "source": [
    "We see that `ts` is a list of 4 dictionaries, one for each mechanism. Here is the meaning of each key (ignore anything with `geom_id` in it):\n",
    "\n",
    "- `delta_<quantity>`: Difference in `<quantity>` between the TS and the *cis* isomer (*cis* because we're looking at `sub_dic['results_by_mechanism']['cis']`). Different quantities are:\n",
    "    - Energy\n",
    "    - Enthalpy\n",
    "    - Conformational free energy ($-TS_{\\mathrm{conf}}$, where $S_{\\mathrm{conf}}$ is the conformational entropy)\n",
    "    - Entropy\n",
    "    - Conformational entropy\n",
    "    - Vibrational entropy (entropy without the conformational compnonent)\n",
    "\n",
    "- `endpoint_<quantity>`: the value of a quantity for an endpoint (i.e., reactant or product). Since we're look at `sub_dic['results_by_mechanism']['cis']`, the endpoint here is *cistrans*. If `quantity` is atoms, then the value is an ASE atoms object.\n",
    "\n",
    "- `ts_<quantity>`: the value of a quantity for the TS\n",
    "\n",
    "**Units**: By default, all *absolute* energies are given in Hartrees (atomic units), while all *relative* energies are given in kcal/mol. If `j_mol_k` is specified, then entropies are given in units of $\\mathrm{J} / (\\mathrm{mol \\  K})$. Otherwise, both absolute and relative entropies are given in atomic units as $T \\cdot S$, where $T=298.15 \\ \\mathrm{K}$ is the temprature. \n",
    "\n",
    "Let's look at each mechanism and visualize the TSs:\n",
    "\n"
   ]
  },
  {
   "cell_type": "code",
   "execution_count": 16,
   "id": "114665ba",
   "metadata": {},
   "outputs": [
    {
     "data": {
      "text/plain": [
       "{'delta_free_energy': 30.820148961967195,\n",
       " 'delta_energy': 32.984694537517385,\n",
       " 'delta_enthalpy': 30.656765290672496,\n",
       " 'delta_conf_free_energy': 0.18298129093378782,\n",
       " 'delta_avg_conf_energy': 0.191860422567312,\n",
       " 'delta_entropy_j_mol_k': -2.292796514160753,\n",
       " 'delta_conf_entropy_j_mol_k': -2.5678139234176363,\n",
       " 'delta_vib_entropy_j_mol_k': 0.2750174092568528,\n",
       " 'endpoint_conf_free_energy': -0.001018021300492071,\n",
       " 'ts_conf_free_energy': -0.0007264218319047075}"
      ]
     },
     "metadata": {},
     "output_type": "display_data"
    },
    {
     "data": {
      "application/vnd.jupyter.widget-view+json": {
       "model_id": "843d631c75d1429fadb6627316b14799",
       "version_major": 2,
       "version_minor": 0
      },
      "text/plain": [
       "NGLWidget(max_frame=1)"
      ]
     },
     "metadata": {},
     "output_type": "display_data"
    },
    {
     "data": {
      "text/plain": [
       "{'delta_free_energy': 34.87174583758515,\n",
       " 'delta_energy': 36.367195562381816,\n",
       " 'delta_enthalpy': 34.98519002647618,\n",
       " 'delta_conf_free_energy': -0.05169594959487424,\n",
       " 'delta_avg_conf_energy': 0.23552907112562413,\n",
       " 'delta_entropy_j_mol_k': 1.5919855318466523,\n",
       " 'delta_conf_entropy_j_mol_k': 0.7254598460672609,\n",
       " 'delta_vib_entropy_j_mol_k': 0.8665256857793607,\n",
       " 'endpoint_conf_free_energy': -0.001018021300492071,\n",
       " 'ts_conf_free_energy': -0.0011004041023241948}"
      ]
     },
     "metadata": {},
     "output_type": "display_data"
    },
    {
     "data": {
      "application/vnd.jupyter.widget-view+json": {
       "model_id": "0c35b22a94834ddd898436aa4e8fccf6",
       "version_major": 2,
       "version_minor": 0
      },
      "text/plain": [
       "NGLWidget(max_frame=1)"
      ]
     },
     "metadata": {},
     "output_type": "display_data"
    },
    {
     "data": {
      "text/plain": [
       "{'delta_free_energy': 34.87431903986289,\n",
       " 'delta_energy': 36.36717288290034,\n",
       " 'delta_enthalpy': 34.98258057858952,\n",
       " 'delta_conf_free_energy': -0.046874688701910416,\n",
       " 'delta_avg_conf_energy': 0.23437111005318326,\n",
       " 'delta_entropy_j_mol_k': 1.5192563408761184,\n",
       " 'delta_conf_entropy_j_mol_k': 0.6578021047418857,\n",
       " 'delta_vib_entropy_j_mol_k': 0.861454236134204,\n",
       " 'endpoint_conf_free_energy': -0.001018021300492071,\n",
       " 'ts_conf_free_energy': -0.0010927209282295383}"
      ]
     },
     "metadata": {},
     "output_type": "display_data"
    },
    {
     "data": {
      "application/vnd.jupyter.widget-view+json": {
       "model_id": "38392472f8664312bdb8679abf1e01f7",
       "version_major": 2,
       "version_minor": 0
      },
      "text/plain": [
       "NGLWidget(max_frame=1)"
      ]
     },
     "metadata": {},
     "output_type": "display_data"
    },
    {
     "data": {
      "text/plain": [
       "{'delta_free_energy': 30.81704745307957,\n",
       " 'delta_energy': 32.98490621267779,\n",
       " 'delta_enthalpy': 30.660028493818967,\n",
       " 'delta_conf_free_energy': 0.1804201662241379,\n",
       " 'delta_avg_conf_energy': 0.19201172595300736,\n",
       " 'delta_entropy_j_mol_k': -2.2034792069304268,\n",
       " 'delta_conf_entropy_j_mol_k': -2.5318731359443003,\n",
       " 'delta_vib_entropy_j_mol_k': 0.3283939290138611,\n",
       " 'endpoint_conf_free_energy': -0.001018021300492071,\n",
       " 'ts_conf_free_energy': -0.0007305032470073593}"
      ]
     },
     "metadata": {},
     "output_type": "display_data"
    },
    {
     "data": {
      "application/vnd.jupyter.widget-view+json": {
       "model_id": "c987bee210294a48bf338d1ef502ac47",
       "version_major": 2,
       "version_minor": 0
      },
      "text/plain": [
       "NGLWidget(max_frame=1)"
      ]
     },
     "metadata": {},
     "output_type": "display_data"
    }
   ],
   "source": [
    "for ts_dic in ts_list:\n",
    "    display({key: val for key, val in ts_dic.items() if 'geom_id' not in key\n",
    "             and 'atoms' not in key})\n",
    "    trj = [ts_dic[key] for key in ['endpoint_atoms', 'ts_atoms']]\n",
    "    display(nv.show_asetraj(trj))"
   ]
  },
  {
   "cell_type": "markdown",
   "id": "f4440a9d",
   "metadata": {},
   "source": [
    "We see two inversion mechanisms and two rotations. The rotational barrier is 4 kcal/mol lower than the inversion barrier.\n",
    "\n",
    "Now let's look at singlet-triplet crossings:"
   ]
  },
  {
   "cell_type": "code",
   "execution_count": 37,
   "id": "b1258964",
   "metadata": {
    "scrolled": true
   },
   "outputs": [
    {
     "data": {
      "application/vnd.jupyter.widget-view+json": {
       "model_id": "69fac2dbb0294550afaf425933086da5",
       "version_major": 2,
       "version_minor": 0
      },
      "text/plain": [
       "NGLWidget(max_frame=3)"
      ]
     },
     "metadata": {},
     "output_type": "display_data"
    }
   ],
   "source": [
    "key = list(info.keys())[1]\n",
    "\n",
    "summary = info[key]['summary']\n",
    "s_t_crossing = summary['s_t_crossing']\n",
    "stable_dic = s_t_crossing['stable_side']\n",
    "unstable_dic = s_t_crossing['unstable_side']\n",
    "\n",
    "unstable_atoms = unstable_dic['endpoint_atoms']\n",
    "unstable_cross_atoms = unstable_dic['s_t_crossing_atoms']\n",
    "\n",
    "stable_cross_atoms = stable_dic['s_t_crossing_atoms']\n",
    "stable_atoms = stable_dic['endpoint_atoms']\n",
    "\n",
    "trj = [unstable_atoms, unstable_cross_atoms, stable_cross_atoms, stable_atoms]\n",
    "\n",
    "display(nv.show_asetraj(trj))"
   ]
  },
  {
   "cell_type": "code",
   "execution_count": 34,
   "id": "9ff26e65",
   "metadata": {
    "scrolled": true
   },
   "outputs": [
    {
     "data": {
      "application/vnd.jupyter.widget-view+json": {
       "model_id": "5151b9a751d6437fa69d75118d8808c3",
       "version_major": 2,
       "version_minor": 0
      },
      "text/plain": [
       "NGLWidget()"
      ]
     },
     "metadata": {},
     "output_type": "display_data"
    },
    {
     "data": {
      "application/vnd.jupyter.widget-view+json": {
       "model_id": "3d6e3ea0c079440f9a6b388d7c04e353",
       "version_major": 2,
       "version_minor": 0
      },
      "text/plain": [
       "NGLWidget()"
      ]
     },
     "metadata": {},
     "output_type": "display_data"
    },
    {
     "data": {
      "application/vnd.jupyter.widget-view+json": {
       "model_id": "fe4badf0a777431b8f7fe3d30ef38e10",
       "version_major": 2,
       "version_minor": 0
      },
      "text/plain": [
       "NGLWidget()"
      ]
     },
     "metadata": {},
     "output_type": "display_data"
    },
    {
     "data": {
      "application/vnd.jupyter.widget-view+json": {
       "model_id": "6f548e66c82d469db36af0e3bea5dacd",
       "version_major": 2,
       "version_minor": 0
      },
      "text/plain": [
       "NGLWidget()"
      ]
     },
     "metadata": {},
     "output_type": "display_data"
    }
   ],
   "source": [
    "for atoms in trj:\n",
    "    display(nv.show_ase(atoms))"
   ]
  },
  {
   "cell_type": "code",
   "execution_count": 36,
   "id": "0b94ab3b",
   "metadata": {},
   "outputs": [
    {
     "data": {
      "text/plain": [
       "{'s_t_crossing_geom_id': 243496831,\n",
       " 'endpoint_geom_id': 223222504,\n",
       " 'delta_free_energy': 27.62078188975198,\n",
       " 'delta_enthalpy': 26.839298280533775,\n",
       " 'delta_conf_free_energy': 0.9455058933263129,\n",
       " 'delta_avg_conf_energy': -0.053650661796275215,\n",
       " 'delta_eff_free_energy': 30.098177799793287,\n",
       " 'delta_entropy_j_mol_k': -10.966719506854265,\n",
       " 'delta_conf_entropy_j_mol_k': -13.268477805390889,\n",
       " 'delta_vib_entropy_j_mol_k': 2.3017582985366776,\n",
       " 'delta_eff_entropy_j_mol_k': -45.73252359074797,\n",
       " 'endpoint_conf_free_energy': -0.004265662537832282,\n",
       " 's_t_crossing_conf_free_energy': -0.0027589018486209515,\n",
       " 'endpoint': 'cis',\n",
       " 's_t_crossing_atoms': Atoms(symbols='C7N2C4O2C3O2C8H26', pbc=False),\n",
       " 'endpoint_atoms': Atoms(symbols='C7N2C4O2C3O2C8H26', pbc=False)}"
      ]
     },
     "execution_count": 36,
     "metadata": {},
     "output_type": "execute_result"
    }
   ],
   "source": [
    "stable_dic"
   ]
  },
  {
   "cell_type": "code",
   "execution_count": null,
   "id": "fb1eda5e",
   "metadata": {},
   "outputs": [],
   "source": []
  }
 ],
 "metadata": {
  "kernelspec": {
   "display_name": "Python [conda env:barriers]",
   "language": "python",
   "name": "barriers"
  },
  "language_info": {
   "codemirror_mode": {
    "name": "ipython",
    "version": 3
   },
   "file_extension": ".py",
   "mimetype": "text/x-python",
   "name": "python",
   "nbconvert_exporter": "python",
   "pygments_lexer": "ipython3",
   "version": "3.9.12"
  }
 },
 "nbformat": 4,
 "nbformat_minor": 5
}
