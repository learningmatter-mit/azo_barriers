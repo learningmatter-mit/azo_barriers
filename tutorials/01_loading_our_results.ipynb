{
 "cells": [
  {
   "cell_type": "markdown",
   "id": "60c0c14f",
   "metadata": {},
   "source": [
    "# Loading our results \n",
    "This tutorial explains how to load the results that were published with our paper. The data can be found [here](https://doi.org/10.18126/unc8-336t). In this tutorial we'll use a snippet of that data, which contains a few tens of species that have experimental data. In a later tutorial we'll see how to load results that you run on your own molecules!"
   ]
  },
  {
   "cell_type": "markdown",
   "id": "dba3c19a",
   "metadata": {},
   "source": [
    "Let's first start with imports:"
   ]
  },
  {
   "cell_type": "code",
   "execution_count": 1,
   "id": "7f228f2f",
   "metadata": {},
   "outputs": [],
   "source": [
    "%load_ext autoreload\n",
    "%autoreload 2"
   ]
  },
  {
   "cell_type": "code",
   "execution_count": 2,
   "id": "93e9a18e",
   "metadata": {},
   "outputs": [
    {
     "data": {
      "application/vnd.jupyter.widget-view+json": {
       "model_id": "b80ed96667c845abb585ef8d2dcb381d",
       "version_major": 2,
       "version_minor": 0
      },
      "text/plain": []
     },
     "metadata": {},
     "output_type": "display_data"
    }
   ],
   "source": [
    "import pickle\n",
    "import json\n",
    "import nglview as nv\n"
   ]
  },
  {
   "cell_type": "markdown",
   "id": "4ab258f8",
   "metadata": {},
   "source": [
    "There are three types of files that we can load. The file ending with `.json` contains detailed information about transition states (TSs), singlet-triplet crossings, etc., but does not contain any geometries. The two files ending with `.pickle` contain the most important summary data bout TSs and crossings, plus the actual geometries.\n",
    "\n",
    "In the file ending with `_atoms.pickle`, the geometries are represented as [ASE](https://wiki.fysik.dtu.dk/ase/) atoms. In the file ending with `_xyz.pickle`, the geometries are given in the `xyz` format.\n",
    "\n",
    "Let's load the file with ASE atoms objects:"
   ]
  },
  {
   "cell_type": "code",
   "execution_count": 3,
   "id": "026f40c5",
   "metadata": {},
   "outputs": [],
   "source": [
    "with open(\"data/ts_query_atoms.pickle\", 'rb') as f:\n",
    "    info = pickle.load(f)\n"
   ]
  },
  {
   "cell_type": "markdown",
   "id": "b41ab4ec",
   "metadata": {},
   "source": [
    "The keys in the dictionary are SMILES strings (we use the *cis* isomer for each species):"
   ]
  },
  {
   "cell_type": "code",
   "execution_count": 4,
   "id": "c68a56ae",
   "metadata": {},
   "outputs": [
    {
     "name": "stdout",
     "output_type": "stream",
     "text": [
      "Fc1ccccc1/N=N\\c1ccccc1F\n"
     ]
    }
   ],
   "source": [
    "keys = list(info.keys())\n",
    "key = keys[0]\n",
    "print(key)"
   ]
  },
  {
   "cell_type": "markdown",
   "id": "3cb3baa4",
   "metadata": {},
   "source": [
    "Each value is a sub-dictionary with results:"
   ]
  },
  {
   "cell_type": "code",
   "execution_count": 5,
   "id": "b1cca8bf",
   "metadata": {},
   "outputs": [
    {
     "data": {
      "text/plain": [
       "dict_keys(['results_by_mechanism', 'summary', 'stable', 'unstable', 'cis_smiles', 'trans_smiles'])"
      ]
     },
     "metadata": {},
     "output_type": "display_data"
    }
   ],
   "source": [
    "sub_dic = info[key]\n",
    "display(sub_dic.keys())"
   ]
  },
  {
   "cell_type": "markdown",
   "id": "da183e96",
   "metadata": {},
   "source": [
    "## Miscellaneous keys\n",
    "\n",
    "The `cis_smiles` and `trans_smiles` keys tell you the SMILES strings of the *cis* and *trans* isomers.  The `stable` and `unstable` keys tell you which isomer is thermodynamically stable, and which is unstable. Usually the unstable one is *cis* and that's also the case here:"
   ]
  },
  {
   "cell_type": "code",
   "execution_count": 6,
   "id": "54a7159d",
   "metadata": {},
   "outputs": [
    {
     "data": {
      "text/plain": [
       "{'stable': 'trans',\n",
       " 'unstable': 'cis',\n",
       " 'cis_smiles': 'Fc1ccccc1/N=N\\\\c1ccccc1F',\n",
       " 'trans_smiles': 'Fc1ccccc1/N=N/c1ccccc1F'}"
      ]
     },
     "metadata": {},
     "output_type": "display_data"
    }
   ],
   "source": [
    "display({key: val for key, val in sub_dic.items() if key not in ['results_by_mechanism', 'summary']})"
   ]
  },
  {
   "cell_type": "markdown",
   "id": "44bb4079",
   "metadata": {},
   "source": [
    "## `results_by_mechanism`"
   ]
  },
  {
   "cell_type": "markdown",
   "id": "fa99df9d",
   "metadata": {},
   "source": [
    "`results_by_mechanism` has results for each of the four mechanisms for each species. Let's see what it looks like:"
   ]
  },
  {
   "cell_type": "code",
   "execution_count": 7,
   "id": "eebff246",
   "metadata": {},
   "outputs": [
    {
     "data": {
      "text/plain": [
       "dict_keys(['trans', 'cis'])"
      ]
     },
     "metadata": {},
     "output_type": "display_data"
    },
    {
     "data": {
      "text/plain": [
       "dict_keys(['s_t_crossing', 'ts'])"
      ]
     },
     "metadata": {},
     "output_type": "display_data"
    }
   ],
   "source": [
    "display(sub_dic['results_by_mechanism'].keys())\n",
    "display(sub_dic['results_by_mechanism']['cis'].keys())"
   ]
  },
  {
   "cell_type": "markdown",
   "id": "6b690456",
   "metadata": {},
   "source": [
    "`results_by_mechanism` is divided into *cis* and *trans*. These provide activation free energies (and energies, enthalpies, etc.) relative to the *cis* and *trans* isomers, respectively. The classical activation free energies are in `ts`, while the effective activation free energies from intersystem crossing are in `s_t_crossing`."
   ]
  },
  {
   "cell_type": "markdown",
   "id": "e0e2c58b",
   "metadata": {},
   "source": [
    "### Classical transition states\n",
    "\n",
    "Let's look at the classical transition states (TSs) first:"
   ]
  },
  {
   "cell_type": "code",
   "execution_count": 8,
   "id": "16be7a28",
   "metadata": {},
   "outputs": [
    {
     "name": "stdout",
     "output_type": "stream",
     "text": [
      "<class 'list'>\n",
      "4\n"
     ]
    },
    {
     "data": {
      "text/plain": [
       "['ts_geom_id',\n",
       " 'endpoint_geom_id',\n",
       " 'delta_free_energy',\n",
       " 'delta_energy',\n",
       " 'delta_enthalpy',\n",
       " 'delta_conf_free_energy',\n",
       " 'delta_avg_conf_energy',\n",
       " 'delta_entropy_j_mol_k',\n",
       " 'delta_conf_entropy_j_mol_k',\n",
       " 'delta_vib_entropy_j_mol_k',\n",
       " 'endpoint_conf_free_energy',\n",
       " 'ts_conf_free_energy',\n",
       " 'ts_atoms',\n",
       " 'endpoint_atoms']"
      ]
     },
     "metadata": {},
     "output_type": "display_data"
    }
   ],
   "source": [
    "cis_dic = sub_dic['results_by_mechanism']['cis']\n",
    "ts_list = cis_dic['ts']\n",
    "\n",
    "print(type(ts_list))\n",
    "print(len(ts_list))\n",
    "display(list(ts_list[0].keys()))"
   ]
  },
  {
   "cell_type": "markdown",
   "id": "12b12c8e",
   "metadata": {},
   "source": [
    "We see that `ts` is a list of 4 dictionaries, one for each mechanism. Here is the meaning of each key (ignore anything with `geom_id` in it):\n",
    "\n",
    "- `delta_<quantity>`: Difference in `<quantity>` between the TS and the *cis* isomer (*cis* because we're looking at `sub_dic['results_by_mechanism']['cis']`). Different quantities are:\n",
    "    - `energy`\n",
    "    - `enthalpy`\n",
    "    - `conf_free_energy`: Conformational free energy ($-TS_{\\mathrm{conf}}$, where $S_{\\mathrm{conf}}$ is the conformational entropy)\n",
    "    - `entropy`\n",
    "    - `conf_entropy`: Conformational entropy\n",
    "    - `vib_entropy`: Vibrational entropy (entropy without the conformational compnonent)\n",
    "    - `avg_conf_energy`: The average energy of the conformer ensemble, relative to the lowest energy conformer. Given in kcal/mol, and equal to $\\sum_i p_i (E_i-E_{\\mathrm{min}})$, where the sum is over conformers, $p_i = \\mathrm{exp} (-E_i/k_{\\mathrm{B}} T) \\ / \\ [\\sum_j \\mathrm{exp}(E_j/k_{\\mathrm{B}} T)]$ is the probability of the $i^{\\mathrm{th}}$ conformer, and $E_{\\mathrm{min}}$ is the lowest energy in the ensemble.\n",
    "\n",
    "- `endpoint_<quantity>`: the value of a quantity for an endpoint (i.e., reactant or product). Since we're look at `sub_dic['results_by_mechanism']['cis']`, the endpoint here is *cistrans*. If `quantity` is atoms, then the value is an ASE atoms object.\n",
    "\n",
    "- `ts_<quantity>`: the value of a quantity for the TS\n",
    "\n",
    "**Units**: By default, all *absolute* energies are given in Hartrees (atomic units), while all *relative* energies are given in kcal/mol. If `j_mol_k` is specified, then entropies are given in units of $\\mathrm{J} / (\\mathrm{mol \\  K})$. Otherwise, both absolute and relative entropies are given in atomic units as $T \\cdot S$, where $T=298.15 \\ \\mathrm{K}$ is the temprature. \n",
    "\n",
    "Let's look at each mechanism and visualize the TSs:\n",
    "\n"
   ]
  },
  {
   "cell_type": "code",
   "execution_count": 9,
   "id": "56beaefa",
   "metadata": {},
   "outputs": [
    {
     "data": {
      "text/plain": [
       "{'delta_free_energy': 30.40815908886956,\n",
       " 'delta_energy': 32.984694537517385,\n",
       " 'delta_enthalpy': 30.69544174426622,\n",
       " 'delta_conf_free_energy': -0.26768503575758185,\n",
       " 'delta_avg_conf_energy': 0.23053687616104576,\n",
       " 'delta_entropy_j_mol_k': 4.031496327954598,\n",
       " 'delta_conf_entropy_j_mol_k': 3.7564789186977112,\n",
       " 'delta_vib_entropy_j_mol_k': 0.2750174092568528,\n",
       " 'endpoint_conf_free_energy': -0.001018021300492071,\n",
       " 'ts_conf_free_energy': -0.0014446048805802957}"
      ]
     },
     "metadata": {},
     "output_type": "display_data"
    },
    {
     "data": {
      "application/vnd.jupyter.widget-view+json": {
       "model_id": "4332af33e5334caaa488dc2f8943394c",
       "version_major": 2,
       "version_minor": 0
      },
      "text/plain": [
       "NGLWidget(max_frame=1)"
      ]
     },
     "metadata": {},
     "output_type": "display_data"
    },
    {
     "data": {
      "text/plain": [
       "{'delta_free_energy': 34.65076455645786,\n",
       " 'delta_energy': 36.367195562381816,\n",
       " 'delta_enthalpy': 34.98019783151161,\n",
       " 'delta_conf_free_energy': -0.26768503575758185,\n",
       " 'delta_avg_conf_energy': 0.23053687616104576,\n",
       " 'delta_entropy_j_mol_k': 4.6230046044771065,\n",
       " 'delta_conf_entropy_j_mol_k': 3.7564789186977112,\n",
       " 'delta_vib_entropy_j_mol_k': 0.8665256857793607,\n",
       " 'endpoint_conf_free_energy': -0.001018021300492071,\n",
       " 'ts_conf_free_energy': -0.0014446048805802957}"
      ]
     },
     "metadata": {},
     "output_type": "display_data"
    },
    {
     "data": {
      "application/vnd.jupyter.widget-view+json": {
       "model_id": "681c0de8989a48aeb7ea752421fb9c67",
       "version_major": 2,
       "version_minor": 0
      },
      "text/plain": [
       "NGLWidget(max_frame=1)"
      ]
     },
     "metadata": {},
     "output_type": "display_data"
    },
    {
     "data": {
      "text/plain": [
       "{'delta_free_energy': 34.64967445891508,\n",
       " 'delta_energy': 36.36717288290034,\n",
       " 'delta_enthalpy': 34.97874634469739,\n",
       " 'delta_conf_free_energy': -0.26768503575758185,\n",
       " 'delta_avg_conf_energy': 0.23053687616104576,\n",
       " 'delta_entropy_j_mol_k': 4.61793315483195,\n",
       " 'delta_conf_entropy_j_mol_k': 3.7564789186977112,\n",
       " 'delta_vib_entropy_j_mol_k': 0.861454236134204,\n",
       " 'endpoint_conf_free_energy': -0.001018021300492071,\n",
       " 'ts_conf_free_energy': -0.0014446048805802957}"
      ]
     },
     "metadata": {},
     "output_type": "display_data"
    },
    {
     "data": {
      "application/vnd.jupyter.widget-view+json": {
       "model_id": "123ed6e9f88b4b8ca9223f7c2c0951d7",
       "version_major": 2,
       "version_minor": 0
      },
      "text/plain": [
       "NGLWidget(max_frame=1)"
      ]
     },
     "metadata": {},
     "output_type": "display_data"
    },
    {
     "data": {
      "text/plain": [
       "{'delta_free_energy': 30.407467401305883,\n",
       " 'delta_energy': 32.98490621267779,\n",
       " 'delta_enthalpy': 30.69855364402701,\n",
       " 'delta_conf_free_energy': -0.26768503575758185,\n",
       " 'delta_avg_conf_energy': 0.23053687616104576,\n",
       " 'delta_entropy_j_mol_k': 4.0848728477116065,\n",
       " 'delta_conf_entropy_j_mol_k': 3.7564789186977112,\n",
       " 'delta_vib_entropy_j_mol_k': 0.3283939290138611,\n",
       " 'endpoint_conf_free_energy': -0.001018021300492071,\n",
       " 'ts_conf_free_energy': -0.0014446048805802957}"
      ]
     },
     "metadata": {},
     "output_type": "display_data"
    },
    {
     "data": {
      "application/vnd.jupyter.widget-view+json": {
       "model_id": "46a1ef3d68f94232bd967a1d4855e31b",
       "version_major": 2,
       "version_minor": 0
      },
      "text/plain": [
       "NGLWidget(max_frame=1)"
      ]
     },
     "metadata": {},
     "output_type": "display_data"
    }
   ],
   "source": [
    "for ts_dic in ts_list:\n",
    "    display({key: val for key, val in ts_dic.items() if 'geom_id' not in key\n",
    "             and 'atoms' not in key})\n",
    "    trj = [ts_dic[key] for key in ['endpoint_atoms', 'ts_atoms']]\n",
    "    display(nv.show_asetraj(trj))"
   ]
  },
  {
   "cell_type": "markdown",
   "id": "384ab960",
   "metadata": {},
   "source": [
    "We see two inversion mechanisms and two rotations. The rotational barrier is 4 kcal/mol lower than the inversion barrier."
   ]
  },
  {
   "cell_type": "markdown",
   "id": "d9ba81cc",
   "metadata": {},
   "source": [
    "### Singlet-triplet crossings\n",
    "\n",
    "Now let's look at singlet-triplet crossings:"
   ]
  },
  {
   "cell_type": "code",
   "execution_count": 10,
   "id": "59c672a8",
   "metadata": {
    "scrolled": true
   },
   "outputs": [
    {
     "data": {
      "text/plain": [
       "[[{'s_t_crossing_geom_id': 243495721,\n",
       "   'endpoint_geom_id': 223213660,\n",
       "   'delta_free_energy': 26.069174272403334,\n",
       "   'delta_enthalpy': 26.356456927799986,\n",
       "   'delta_conf_free_energy': -0.26768503575758185,\n",
       "   'delta_avg_conf_energy': 0.23053687616104576,\n",
       "   'delta_eff_free_energy': 28.492724274717613,\n",
       "   'delta_entropy_j_mol_k': 4.031496327954598,\n",
       "   'delta_conf_entropy_j_mol_k': 3.7564789186977112,\n",
       "   'delta_vib_entropy_j_mol_k': 0.2750174092568528,\n",
       "   'delta_eff_entropy_j_mol_k': -29.978677107171762,\n",
       "   'endpoint_conf_free_energy': -0.001018021300492071,\n",
       "   's_t_crossing_conf_free_energy': -0.0014446048805802957,\n",
       "   'endpoint': 'cis',\n",
       "   't_isc': 5.83526486568076e-12,\n",
       "   's_t_crossing_atoms': Atoms(symbols='FC6N2C6FH8', pbc=False),\n",
       "   'endpoint_atoms': Atoms(symbols='FC6N2C6FH8', pbc=False)},\n",
       "  {'s_t_crossing_geom_id': 243495723,\n",
       "   'endpoint_geom_id': 248437562,\n",
       "   'delta_free_energy': 25.226068091148722,\n",
       "   'delta_enthalpy': 25.513350746545374,\n",
       "   'delta_conf_free_energy': -0.26768503575758185,\n",
       "   'delta_avg_conf_energy': 0.23053687616104576,\n",
       "   'delta_eff_free_energy': 27.486210492693427,\n",
       "   'delta_entropy_j_mol_k': 4.031496327954598,\n",
       "   'delta_conf_entropy_j_mol_k': 3.7564789186977112,\n",
       "   'delta_vib_entropy_j_mol_k': 0.2750174092568528,\n",
       "   'delta_eff_entropy_j_mol_k': -27.68554478579036,\n",
       "   'endpoint_conf_free_energy': -0.001018021300492071,\n",
       "   's_t_crossing_conf_free_energy': -0.0014446048805802957,\n",
       "   'endpoint': 'trans',\n",
       "   't_isc': 4.428758216975692e-12,\n",
       "   's_t_crossing_atoms': Atoms(symbols='FC6N2C6FH8', pbc=False),\n",
       "   'endpoint_atoms': Atoms(symbols='FC6N2C6FH8', pbc=False)}]]"
      ]
     },
     "metadata": {},
     "output_type": "display_data"
    }
   ],
   "source": [
    "s_t_list = cis_dic['s_t_crossing']\n",
    "display(s_t_list)\n"
   ]
  },
  {
   "cell_type": "markdown",
   "id": "0a14ae11",
   "metadata": {},
   "source": [
    "Many of the keys are the same as for TSs, but the structure is different. Here we have a list of lists. Each sub-list has two dictionaries, one for the crossing closer to *cis*, and one for the crosisng closer to *trans*. The closer isomer is indicated by `endpoint`. We can test to see if that's true:"
   ]
  },
  {
   "cell_type": "code",
   "execution_count": 11,
   "id": "adcc8445",
   "metadata": {},
   "outputs": [
    {
     "data": {
      "application/vnd.jupyter.widget-view+json": {
       "model_id": "681a120919014233b39317789a853569",
       "version_major": 2,
       "version_minor": 0
      },
      "text/plain": [
       "NGLWidget(max_frame=1)"
      ]
     },
     "metadata": {},
     "output_type": "display_data"
    },
    {
     "name": "stdout",
     "output_type": "stream",
     "text": [
      "[0.1832232198624463, 0.4662472575493782]\n"
     ]
    }
   ],
   "source": [
    "trj = [d['s_t_crossing_atoms'] for d in s_t_list[0]]\n",
    "display(nv.show_asetraj(trj))\n",
    "diheds = [i.get_dihedral(9, 10, 11, 12) for i in trj]\n",
    "print(diheds)\n"
   ]
  },
  {
   "cell_type": "markdown",
   "id": "3637e62d",
   "metadata": {},
   "source": [
    "As promised, the first geometry is closer to *cis* (the first dictionary has `'endpoint': 'cis'`), and the second is closer to *trans*. We can see that both visually and from looking at the dihedral angles, which are $75^{\\circ} < 90^{\\circ} $ and $105^{\\circ} > 90^{\\circ}$, respectively.\n",
    "\n",
    "There are also some keys that aren't in the TS dictionary:\n",
    "\n",
    "- `delta_eff_free_energy`: The effective free energy difference between the crossing geometry and the higher energy relaxed isomer (in this case, the *cis* isomer). It is given by\n",
    "\n",
    "$\\Delta G^{X, \\mathrm{eff}} = \\Delta H^{\\mathrm{X}} + \\Delta S^{\\mathrm{app}}$\n",
    "\n",
    "$ \\Delta S^{\\mathrm{app}} = \\Delta S^{\\mathrm{X}} + k_{\\mathrm{B}} \\left( \\mathrm{log} \\frac{h k_{\\mathrm{ISC}} }{k_{\\mathrm{B}} T } - \\frac{1}{2} \\right)  $\n",
    "\n",
    "\n",
    " Here $\\Delta H^{\\mathrm{X}}$ is the difference in enthalpy between the crossing point (\"`X`\") and the endpoint. $\\Delta S^{\\mathrm{app}}$ is the entropy that would be inferred from experiment if one assumed an Arrhenius TS relation. It includes the actual entropy difference, $\\Delta S^{\\mathrm{X}}$, and a term related to the intersystem crossing rate, $k_{\\mathrm{ISC}}$.\n",
    "\n",
    "- `delta_eff_entropy`: the effective (or apparent) activation entropy defined above \n",
    "- `s_t_crossing_conf_free_energy`: the conformational free energy at the crossing point\n",
    "- `t_isc`: the intersystem crossing time, defined as $1/k_{\\mathrm{ISC}}$, where $k_{\\mathrm{ISC}}$ is the intersystem crossing rate. Given in seconds.\n",
    "    - Note that `t_isc` is about 1.3 times longer for the crossing on the *cis* side than the crossing on the *trans* side. The rate is therefore 1.3 times smaller. This is because the rate gets multiplied by 2 when going from singlet to triplet (*cis* side), and three when going from triplet to singlet (*trans* side). The ratio is not exactly 1.5, since the different potential energy surfaces on either side also affect the rates.\n",
    "\n"
   ]
  },
  {
   "cell_type": "markdown",
   "id": "954a3121",
   "metadata": {},
   "source": [
    "## `summary` \n",
    "\n",
    "Now that we've seen `results_by_mechanism`, let's take a look at `summary`:"
   ]
  },
  {
   "cell_type": "code",
   "execution_count": 12,
   "id": "1a2b6cbe",
   "metadata": {},
   "outputs": [
    {
     "data": {
      "text/plain": [
       "dict_keys(['s_t_crossing', 'trans', 'cis'])"
      ]
     },
     "metadata": {},
     "output_type": "display_data"
    }
   ],
   "source": [
    "summary = sub_dic[\"summary\"]\n",
    "display(summary.keys())\n"
   ]
  },
  {
   "cell_type": "markdown",
   "id": "2f081b44",
   "metadata": {},
   "source": [
    "`summary` has three keys:\n",
    "- `trans`: Information about the TS free energy, energy, etc. relative to the *trans* isomer\n",
    "- `cis`: Information about the TS free energy, energy, etc. relative to the *cis* isomer\n",
    "- `s_t_crossing`: summary information about singlet-triplet crossing\n"
   ]
  },
  {
   "cell_type": "markdown",
   "id": "d127177c",
   "metadata": {},
   "source": [
    "###  `trans`  and `cis`\n",
    "`summary[\"trans\"]` and `summary[\"cis\"]` look a lot like one of our mechanism dictionaries, but it's specifically for the TS with the lowest free energy:"
   ]
  },
  {
   "cell_type": "code",
   "execution_count": 13,
   "id": "7c89590b",
   "metadata": {},
   "outputs": [
    {
     "data": {
      "text/plain": [
       "['ts_geom_id',\n",
       " 'endpoint_geom_id',\n",
       " 'delta_free_energy',\n",
       " 'delta_energy',\n",
       " 'delta_enthalpy',\n",
       " 'delta_conf_free_energy',\n",
       " 'delta_avg_conf_energy',\n",
       " 'delta_entropy_j_mol_k',\n",
       " 'delta_conf_entropy_j_mol_k',\n",
       " 'delta_vib_entropy_j_mol_k',\n",
       " 'endpoint_conf_free_energy',\n",
       " 'ts_conf_free_energy',\n",
       " 'ts_atoms',\n",
       " 'endpoint_atoms']"
      ]
     },
     "metadata": {},
     "output_type": "display_data"
    },
    {
     "name": "stdout",
     "output_type": "stream",
     "text": [
      "True\n"
     ]
    }
   ],
   "source": [
    "display(list(summary[\"trans\"].keys()))\n",
    "print(summary[\"trans\"].keys() == summary[\"cis\"].keys())"
   ]
  },
  {
   "cell_type": "markdown",
   "id": "7afd5f3d",
   "metadata": {},
   "source": [
    "### `s_t_crossing`.\n",
    "\n",
    "Now let's look at `s_t_crossing`:"
   ]
  },
  {
   "cell_type": "code",
   "execution_count": 14,
   "id": "12551365",
   "metadata": {},
   "outputs": [
    {
     "data": {
      "text/plain": [
       "['unstable_side', 'stable_side']"
      ]
     },
     "metadata": {},
     "output_type": "display_data"
    },
    {
     "data": {
      "text/plain": [
       "['s_t_crossing_geom_id',\n",
       " 'endpoint_geom_id',\n",
       " 'delta_free_energy',\n",
       " 'delta_enthalpy',\n",
       " 'delta_conf_free_energy',\n",
       " 'delta_avg_conf_energy',\n",
       " 'delta_eff_free_energy',\n",
       " 'delta_entropy_j_mol_k',\n",
       " 'delta_conf_entropy_j_mol_k',\n",
       " 'delta_vib_entropy_j_mol_k',\n",
       " 'delta_eff_entropy_j_mol_k',\n",
       " 'endpoint_conf_free_energy',\n",
       " 's_t_crossing_conf_free_energy',\n",
       " 'endpoint',\n",
       " 't_isc',\n",
       " 's_t_crossing_atoms',\n",
       " 'endpoint_atoms']"
      ]
     },
     "metadata": {},
     "output_type": "display_data"
    },
    {
     "name": "stdout",
     "output_type": "stream",
     "text": [
      "True\n"
     ]
    }
   ],
   "source": [
    "display(list(summary[\"s_t_crossing\"].keys()))\n",
    "display(list(summary[\"s_t_crossing\"][\"unstable_side\"].keys()))\n",
    "print(summary[\"s_t_crossing\"][\"unstable_side\"].keys() == summary[\"s_t_crossing\"][\"stable_side\"].keys())"
   ]
  },
  {
   "cell_type": "markdown",
   "id": "837d2739",
   "metadata": {},
   "source": [
    "We see that `s_t_crossing` has two separate dictionaries, one with free energies (and effective free energies, enthalpies, etc.) relative to the unstable isomer, and one relative to the stable isomer."
   ]
  },
  {
   "cell_type": "code",
   "execution_count": 15,
   "id": "84e17fae",
   "metadata": {
    "scrolled": true
   },
   "outputs": [
    {
     "name": "stdout",
     "output_type": "stream",
     "text": [
      "unstable_side\n"
     ]
    },
    {
     "data": {
      "text/plain": [
       "{'delta_free_energy': 26.069174272403334,\n",
       " 'delta_enthalpy': 26.356456927799986,\n",
       " 'delta_conf_free_energy': -0.26768503575758185,\n",
       " 'delta_avg_conf_energy': 0.23053687616104576,\n",
       " 'delta_eff_free_energy': 28.492724274717613,\n",
       " 'delta_entropy_j_mol_k': 4.031496327954598,\n",
       " 'delta_conf_entropy_j_mol_k': 3.7564789186977112,\n",
       " 'delta_vib_entropy_j_mol_k': 0.2750174092568528,\n",
       " 'delta_eff_entropy_j_mol_k': -29.978677107171762,\n",
       " 'endpoint_conf_free_energy': -0.001018021300492071,\n",
       " 's_t_crossing_conf_free_energy': -0.0014446048805802957,\n",
       " 'endpoint': 'cis',\n",
       " 't_isc': 5.83526486568076e-12}"
      ]
     },
     "metadata": {},
     "output_type": "display_data"
    },
    {
     "data": {
      "application/vnd.jupyter.widget-view+json": {
       "model_id": "5570b2e16ecf4266a6f43cbadb21dc45",
       "version_major": 2,
       "version_minor": 0
      },
      "text/plain": [
       "NGLWidget(max_frame=1)"
      ]
     },
     "metadata": {},
     "output_type": "display_data"
    },
    {
     "name": "stdout",
     "output_type": "stream",
     "text": [
      "stable_side\n"
     ]
    },
    {
     "data": {
      "text/plain": [
       "{'delta_free_energy': 25.226068091148722,\n",
       " 'delta_enthalpy': 25.513350746545374,\n",
       " 'delta_conf_free_energy': -0.26768503575758185,\n",
       " 'delta_avg_conf_energy': 0.23053687616104576,\n",
       " 'delta_eff_free_energy': 27.486210492693427,\n",
       " 'delta_entropy_j_mol_k': 4.031496327954598,\n",
       " 'delta_conf_entropy_j_mol_k': 3.7564789186977112,\n",
       " 'delta_vib_entropy_j_mol_k': 0.2750174092568528,\n",
       " 'delta_eff_entropy_j_mol_k': -27.68554478579036,\n",
       " 'endpoint_conf_free_energy': -0.001018021300492071,\n",
       " 's_t_crossing_conf_free_energy': -0.0014446048805802957,\n",
       " 'endpoint': 'trans',\n",
       " 't_isc': 4.428758216975692e-12}"
      ]
     },
     "metadata": {},
     "output_type": "display_data"
    },
    {
     "data": {
      "application/vnd.jupyter.widget-view+json": {
       "model_id": "4e5d6f63056b4dd784cd48db1ecd112e",
       "version_major": 2,
       "version_minor": 0
      },
      "text/plain": [
       "NGLWidget(max_frame=1)"
      ]
     },
     "metadata": {},
     "output_type": "display_data"
    }
   ],
   "source": [
    "for key, dic in summary[\"s_t_crossing\"].items():\n",
    "    print(key)\n",
    "    display({key: val for key, val in dic.items() if 'geom_id' not in key\n",
    "             and 'atoms' not in key})\n",
    "    trj = [dic[key] for key in ['endpoint_atoms', 's_t_crossing_atoms']]\n",
    "    display(nv.show_asetraj(trj))"
   ]
  },
  {
   "cell_type": "markdown",
   "id": "fbc4e9ea",
   "metadata": {},
   "source": [
    "## Detailed data\n",
    "\n",
    "We now know our way around the `_atoms.pickle` file; the `_xyz.pickle` file is the exact same, but just with `xyz` coordinates instead of Atoms objects, which can be easily converted into each other. Now let's look at the `json` file, which contains some more detailed information.\n",
    "\n",
    "We'll start by loading it:"
   ]
  },
  {
   "cell_type": "code",
   "execution_count": 16,
   "id": "811f72e3",
   "metadata": {},
   "outputs": [],
   "source": [
    "with open(\"data/ts_query.json\", 'rb') as f:\n",
    "    json_info = json.load(f)"
   ]
  },
  {
   "cell_type": "markdown",
   "id": "32bb440d",
   "metadata": {},
   "source": [
    "Let's take a look at the keys in each sub-dictionary:"
   ]
  },
  {
   "cell_type": "code",
   "execution_count": 17,
   "id": "a59339f7",
   "metadata": {},
   "outputs": [
    {
     "data": {
      "text/plain": [
       "['transition_states',\n",
       " 'exp_data',\n",
       " 'results_by_mechanism',\n",
       " 'summary',\n",
       " 'stable',\n",
       " 'unstable',\n",
       " 'trans',\n",
       " 'cis',\n",
       " 'cis_smiles',\n",
       " 'trans_smiles']"
      ]
     },
     "metadata": {},
     "output_type": "display_data"
    }
   ],
   "source": [
    "key = list(json_info.keys())[0]\n",
    "sub_dic = json_info[key]\n",
    "display(list(sub_dic.keys()))"
   ]
  },
  {
   "cell_type": "markdown",
   "id": "be3d3514",
   "metadata": {},
   "source": [
    "Here we see some new keys:\n",
    "- `exp_data`: Experimental thermal lifetime data, if available\n",
    "- `transition_states`: Detailed information about all optimized TSs for this species\n",
    "- `cis`: Detailed information about the optimized *cis* conformer\n",
    "- `trans`: Detailed information about the optimized *trans* conformer"
   ]
  },
  {
   "cell_type": "markdown",
   "id": "a96c3b12",
   "metadata": {},
   "source": [
    "### `exp_data`\n",
    "\n",
    "Let's take a look at the experimental data:"
   ]
  },
  {
   "cell_type": "code",
   "execution_count": 18,
   "id": "f28e0156",
   "metadata": {},
   "outputs": [
    {
     "data": {
      "text/plain": [
       "'Fc1ccccc1/N=N\\\\c1ccccc1F'"
      ]
     },
     "metadata": {},
     "output_type": "display_data"
    },
    {
     "data": {
      "text/plain": [
       "[{'DOI': '10.1002/chem.201404649',\n",
       "  'dielec': 37.5,\n",
       "  'solvent': 'acetonitrile',\n",
       "  'temperature_C': 60.0,\n",
       "  'lifetime_hours': 14.950550056524747,\n",
       "  'reported_dS_cal': None,\n",
       "  'inferred_dG_kcal': 26.7894153916709,\n",
       "  'reported_dE_kcal': None,\n",
       "  'reported_dH_kcal': None,\n",
       "  'temperature_kelvin': 333.15,\n",
       "  'reported_dS_cal_err': None,\n",
       "  'reported_dE_kcal_err': None,\n",
       "  'reported_dH_kcal_err': None,\n",
       "  'dG_room_temp_from_S_and_H': None,\n",
       "  'dG_room_temp_from_S_and_H_err': None}]"
      ]
     },
     "metadata": {},
     "output_type": "display_data"
    }
   ],
   "source": [
    "sub_dic = json_info[list(json_info.keys())[0]]\n",
    "\n",
    "display(sub_dic['cis_smiles'])\n",
    "display(sub_dic['exp_data'])\n"
   ]
  },
  {
   "cell_type": "markdown",
   "id": "ecdc8ce2",
   "metadata": {},
   "source": [
    "The data is given as a list of dictionaries. Each dictionary contains information from a different literature sources. The dictionary keys have the following meaning:\n",
    "\n",
    "- `DOI`: DOI of the literature source. You can access the original article by navigating to `doi.org/<DOI>`.\n",
    "- `dielec`: Dielectric constant of the solvent used\n",
    "- `solvent`: Name of the solvent\n",
    "- `temperature_C`: Temperature at which the experiment was performed, in degrees Celius\n",
    "- `temperature_kelvin`: Temperature at which the experiment was performed, in Kelvin\n",
    "- `lifetime_hours`: Lifetime in hours. Given by $1 / k$, where $k$ is the reaction rate. Note that this is the $1/e$ lifetime, related to the half-life through $\\mathrm{half \\ life} = \\mathrm{lifetime } \\cdot 2 / \\mathrm{e} $.\n",
    "- `inferred_dG_kcal`: Activation free energy. Given in kcal/mol and inferred from the experimental lifetime through $\\Delta G = -k_{\\mathrm{B}} T \\cdot \\mathrm{ln}(k \\cdot \\frac{h}{k_{\\mathrm{B}} T})$, where $T$ is the measurement temperature.\n",
    "- `reported_dS_cal`: reported $\\Delta S$ in $\\mathrm{cal}/\\mathrm{mol \\ K}$, if given\n",
    "- `reported_dG_cal`: reported $\\Delta G$ in $\\mathrm{kcal}/\\mathrm{mol}$, if given\n",
    "- `reported_dH_cal`: reported $\\Delta H$ in $\\mathrm{kcal}/\\mathrm{mol}$, if given\n",
    "- `dG_room_temp_from_S_and_H`: $\\Delta G = \\Delta H - T\\Delta S$, computed if $\\Delta H$ and $\\Delta S$ were reported experimentally\n",
    "- `<item>_err`: The reported uncertainty (error) in `<item`>\n",
    "\n"
   ]
  },
  {
   "cell_type": "markdown",
   "id": "db523b89",
   "metadata": {},
   "source": [
    "## `transition_states`\n",
    "\n",
    "This is a list of lists. The inner list is a set of TS dictionaries for a given mechanism, where each TS was optimized from a different conformer. There are four such lists, one for each mechanism:"
   ]
  },
  {
   "cell_type": "code",
   "execution_count": 19,
   "id": "9e5e0877",
   "metadata": {},
   "outputs": [
    {
     "name": "stdout",
     "output_type": "stream",
     "text": [
      "<class 'list'>\n",
      "4\n",
      "3\n"
     ]
    }
   ],
   "source": [
    "print(type(sub_dic['transition_states']))\n",
    "print(len(sub_dic['transition_states'])) # 4 mechanisms\n",
    "print(len(sub_dic['transition_states'][0])) # 3 conformers for this mechanism"
   ]
  },
  {
   "cell_type": "markdown",
   "id": "b5ad0338",
   "metadata": {},
   "source": [
    "Let's see what kind of information is in each dictionary:"
   ]
  },
  {
   "cell_type": "code",
   "execution_count": 20,
   "id": "8eec5fc2",
   "metadata": {},
   "outputs": [
    {
     "data": {
      "text/plain": [
       "['job_id',\n",
       " 'status',\n",
       " 'parentjob_id',\n",
       " 'geom_id',\n",
       " 'converged',\n",
       " 'rxn_path_id',\n",
       " 'entropy',\n",
       " 'free_energy',\n",
       " 'enthalpy',\n",
       " 'vibfreqs',\n",
       " 'energy',\n",
       " 'ts_specific_conf_free_energy',\n",
       " 'ts_specific_avg_conf_energy',\n",
       " 'ts_specific_conf_entropy',\n",
       " 'ts_specific_entropy',\n",
       " 'ts_specific_free_energy',\n",
       " 'ts_specific_enthalpy',\n",
       " 'conf_free_energy',\n",
       " 'avg_conf_energy',\n",
       " 'conf_entropy',\n",
       " 'vib_entropy',\n",
       " 's_t_crossing']"
      ]
     },
     "metadata": {},
     "output_type": "display_data"
    }
   ],
   "source": [
    "ts_dic = sub_dic['transition_states'][0][0]\n",
    "display(list(ts_dic.keys()))"
   ]
  },
  {
   "cell_type": "markdown",
   "id": "3218c835",
   "metadata": {},
   "source": [
    "#### \"TS-specific\" keys\n",
    "\n",
    "We see a new set of keys that start with `ts_specific`. This is related to a subtlety of the conformational entropy. One can compute the conformational entropy for a given TS using the ensemble of conformers generated for that TS. But if we have 4 possible TSs, the conformational entropy should actually taken into account all conformers from all 4 TSs. So all keys that start with `ts_specific` use only the conformers from that TS, whereas the other keys take into account the ensembles of all TSs.\n",
    "\n",
    "Let's compare them:\n",
    "\n"
   ]
  },
  {
   "cell_type": "code",
   "execution_count": 27,
   "id": "940d3cbd",
   "metadata": {},
   "outputs": [
    {
     "name": "stdout",
     "output_type": "stream",
     "text": [
      "-0.45582969952020397\n",
      "-0.9064895625641356\n"
     ]
    }
   ],
   "source": [
    "ha_to_kcal = 627.5\n",
    "\n",
    "print(ts_dic['ts_specific_conf_free_energy'] * ha_to_kcal)\n",
    "print(ts_dic['conf_free_energy'] * ha_to_kcal)"
   ]
  },
  {
   "cell_type": "markdown",
   "id": "e1f3db2e",
   "metadata": {},
   "source": [
    "We see that the TS-specific conformational free energy is $-0.45$. This is basically because there are two rotational TS conformers. One has the fluorines near each other and one has them on opposite sides. Hence the conformational free energy is approximately $-k_{\\mathrm{B}} T \\ \\mathrm{ln}(2) \\approx -0.41$ kcal/mol. The *total* conformational free energy is double that, because the TS ensembles of the clockwise and counter-clockwise mechanisms have identical energies. Hence we double the number of conformers. This effect is the same as accounting for the symmetry number $\\sigma$ in the free energy calculation (see for example [this reference](https://iopscience.iop.org/article/10.1088/1361-648X/aa75bd/meta?casa_token=oHytsk0BqnsAAAAA:gFRdgLshNymPnuhHh1rgsDSmOT4J2jQHN26cpn5wZx6vkeZJZPJk7tcBtTjLcnxFS3LI2EsNY78))."
   ]
  },
  {
   "cell_type": "markdown",
   "id": "ab028ecf",
   "metadata": {},
   "source": [
    "#### Other new keys"
   ]
  },
  {
   "cell_type": "markdown",
   "id": "f5d3393d",
   "metadata": {},
   "source": [
    "Ignoring the keys with `id` or `status` in them and the keys defined above, we have the following new keys:\n",
    "- `converged`: Whether or not eigenvector following converged for this geometry, giving a forces under the tolerance, and a single negative frequency with magnitude $> 200 \\ \\mathrm{cm}^{-1}$\n",
    "- `vibfreqs`: Sorted vibrational frequencies, in $\\mathrm{cm}^{-1}$\n",
    "- `s_t_crossing`: The same information as in `s_t_crossing` from the `atoms` file. Here we see it associated with a specific TS, and so we know which TS the crossing calculation was launched from.\n",
    "\n",
    "We can take a look at the vibrational frequencies and make sure we have a true TS:"
   ]
  },
  {
   "cell_type": "code",
   "execution_count": 28,
   "id": "209c25e7",
   "metadata": {},
   "outputs": [
    {
     "data": {
      "text/plain": [
       "[-842.0945451836966,\n",
       " 42.08440759282712,\n",
       " 57.518808541565306,\n",
       " 62.92304032347095,\n",
       " 143.68334273247208]"
      ]
     },
     "execution_count": 28,
     "metadata": {},
     "output_type": "execute_result"
    }
   ],
   "source": [
    "ts_dic['vibfreqs'][:5]"
   ]
  },
  {
   "cell_type": "markdown",
   "id": "3af4b084",
   "metadata": {},
   "source": [
    "### `cis` and `trans`\n",
    "\n",
    "Lastly, we have detailed information about the optimized *cis* and *trans* isomers. Let's look at the dictionaries' content:"
   ]
  },
  {
   "cell_type": "code",
   "execution_count": 29,
   "id": "d75c5b36",
   "metadata": {},
   "outputs": [
    {
     "data": {
      "text/plain": [
       "['confgen_job_id',\n",
       " 'hess_job_id',\n",
       " 'geom_id',\n",
       " 'converged',\n",
       " 'status',\n",
       " 'free_energy',\n",
       " 'enthalpy',\n",
       " 'entropy',\n",
       " 'vibfreqs',\n",
       " 'energy',\n",
       " 'conf_free_energy',\n",
       " 'avg_conf_energy',\n",
       " 'conf_entropy',\n",
       " 'vib_entropy']"
      ]
     },
     "metadata": {},
     "output_type": "display_data"
    }
   ],
   "source": [
    "display(list(sub_dic['cis'].keys()))"
   ]
  },
  {
   "cell_type": "markdown",
   "id": "1d8f98c5",
   "metadata": {},
   "source": [
    "The only new keys here were already seen in `transition_states` above. The only difference is that, for the *cis* and *trans* endpoints, `converged` means that all frequencies are positive:"
   ]
  },
  {
   "cell_type": "code",
   "execution_count": 30,
   "id": "3aaf53eb",
   "metadata": {},
   "outputs": [
    {
     "data": {
      "text/plain": [
       "[31.643654799284878,\n",
       " 45.57167595808862,\n",
       " 63.129765384813304,\n",
       " 137.2431807817611,\n",
       " 146.29533108980726]"
      ]
     },
     "metadata": {},
     "output_type": "display_data"
    }
   ],
   "source": [
    "display(sub_dic['cis']['vibfreqs'][:5])"
   ]
  },
  {
   "cell_type": "markdown",
   "id": "b9e076d4",
   "metadata": {},
   "source": [
    "# Conclusion\n",
    "\n",
    "In this tutorial we learned how to load and understand the published barrier data. Now you're ready for the next tutorial, in which we plot and analyze the data!"
   ]
  },
  {
   "cell_type": "code",
   "execution_count": null,
   "id": "339d815b",
   "metadata": {},
   "outputs": [],
   "source": []
  }
 ],
 "metadata": {
  "kernelspec": {
   "display_name": "Python [conda env:barriers]",
   "language": "python",
   "name": "barriers"
  },
  "language_info": {
   "codemirror_mode": {
    "name": "ipython",
    "version": 3
   },
   "file_extension": ".py",
   "mimetype": "text/x-python",
   "name": "python",
   "nbconvert_exporter": "python",
   "pygments_lexer": "ipython3",
   "version": "3.9.12"
  }
 },
 "nbformat": 4,
 "nbformat_minor": 5
}
