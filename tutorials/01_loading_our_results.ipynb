{
 "cells": [
  {
   "cell_type": "markdown",
   "id": "0694142d",
   "metadata": {},
   "source": [
    "# Loading our results \n",
    "This tutorial explains how to load the results that were published with our paper. The data can be found [here](https://doi.org/10.18126/unc8-336t). In this tutorial we'll use a snippet of that data, which contains a few tens of species that have experimental data. In a later tutorial we'll see how to load results that you run on your own molecules!"
   ]
  },
  {
   "cell_type": "markdown",
   "id": "d57d239b",
   "metadata": {},
   "source": [
    "Let's first start with imports:"
   ]
  },
  {
   "cell_type": "code",
   "execution_count": 43,
   "id": "4f401420",
   "metadata": {},
   "outputs": [
    {
     "name": "stdout",
     "output_type": "stream",
     "text": [
      "The autoreload extension is already loaded. To reload it, use:\n",
      "  %reload_ext autoreload\n"
     ]
    }
   ],
   "source": [
    "%load_ext autoreload\n",
    "%autoreload 2\n",
    "\n",
    "import pickle\n",
    "import nglview as nv\n"
   ]
  },
  {
   "cell_type": "markdown",
   "id": "45609243",
   "metadata": {},
   "source": [
    "There are three types of files that we can load. The file ending with `.json` contains detailed information about transition states (TSs), singlet-triplet crossings, etc., but does not contain any geometries. The two files ending with `.pickle` contain the most important summary data bout TSs and crossings, plus the actual geometries.\n",
    "\n",
    "In the file ending with `_atoms.pickle`, the geometries are represented as [ASE](https://wiki.fysik.dtu.dk/ase/) atoms. In the file ending with `_xyz.pickle`, the geometries are given in the `xyz` format.\n",
    "\n",
    "Let's load the file with ASE atoms objects:"
   ]
  },
  {
   "cell_type": "code",
   "execution_count": 44,
   "id": "adbdce56",
   "metadata": {},
   "outputs": [],
   "source": [
    "with open(\"data/ts_query_atoms.pickle\", 'rb') as f:\n",
    "    info = pickle.load(f)\n"
   ]
  },
  {
   "cell_type": "markdown",
   "id": "d9d09894",
   "metadata": {},
   "source": [
    "The keys in the dictionary are SMILES strings (we use the *cis* isomer for each species):"
   ]
  },
  {
   "cell_type": "code",
   "execution_count": 45,
   "id": "6c0e600d",
   "metadata": {},
   "outputs": [
    {
     "name": "stdout",
     "output_type": "stream",
     "text": [
      "Fc1ccccc1/N=N\\c1ccccc1F\n"
     ]
    }
   ],
   "source": [
    "keys = list(info.keys())\n",
    "key = keys[0]\n",
    "print(key)"
   ]
  },
  {
   "cell_type": "markdown",
   "id": "21cb8b3f",
   "metadata": {},
   "source": [
    "Each value is a sub-dictionary with results:"
   ]
  },
  {
   "cell_type": "code",
   "execution_count": 46,
   "id": "586ab7d0",
   "metadata": {},
   "outputs": [
    {
     "data": {
      "text/plain": [
       "dict_keys(['results_by_mechanism', 'summary', 'stable', 'unstable'])"
      ]
     },
     "metadata": {},
     "output_type": "display_data"
    }
   ],
   "source": [
    "sub_dic = info[key]\n",
    "display(sub_dic.keys())"
   ]
  },
  {
   "cell_type": "markdown",
   "id": "c25fa25c",
   "metadata": {},
   "source": [
    "## `stable` and `unstable`\n",
    "\n",
    "These keys tell you which isomer is thermodynamically stable, and which is unstable. Usually the unstable one is *cis* and that's also the case here:"
   ]
  },
  {
   "cell_type": "code",
   "execution_count": 47,
   "id": "543b7fec",
   "metadata": {},
   "outputs": [
    {
     "data": {
      "text/plain": [
       "{'stable': 'trans', 'unstable': 'cis'}"
      ]
     },
     "metadata": {},
     "output_type": "display_data"
    }
   ],
   "source": [
    "display({\"stable\": sub_dic[\"stable\"],\n",
    "         \"unstable\": sub_dic[\"unstable\"]})"
   ]
  },
  {
   "cell_type": "markdown",
   "id": "a736bfbb",
   "metadata": {},
   "source": [
    "## `results_by_mechanism`"
   ]
  },
  {
   "cell_type": "markdown",
   "id": "72c0ee46",
   "metadata": {},
   "source": [
    "`results_by_mechanism` has results for each of the four mechanisms for each species. Let's see what it looks like:"
   ]
  },
  {
   "cell_type": "code",
   "execution_count": 36,
   "id": "191ac72f",
   "metadata": {},
   "outputs": [
    {
     "data": {
      "text/plain": [
       "dict_keys(['trans', 'cis'])"
      ]
     },
     "metadata": {},
     "output_type": "display_data"
    },
    {
     "data": {
      "text/plain": [
       "dict_keys(['s_t_crossing', 'ts'])"
      ]
     },
     "metadata": {},
     "output_type": "display_data"
    }
   ],
   "source": [
    "display(sub_dic['results_by_mechanism'].keys())\n",
    "display(sub_dic['results_by_mechanism']['cis'].keys())"
   ]
  },
  {
   "cell_type": "markdown",
   "id": "4d630ec9",
   "metadata": {},
   "source": [
    "`results_by_mechanism` is divided into *cis* and *trans*. These provide activation free energies (and energies, enthalpies, etc.) relative to the *cis* and *trans* isomers, respectively. The classical activation free energies are in `ts`, while the effective activation free energies from intersystem crossing are in `s_t_crossing`."
   ]
  },
  {
   "cell_type": "markdown",
   "id": "2e7bb374",
   "metadata": {},
   "source": [
    "### Classical transition states\n",
    "\n",
    "Let's look at the classical transition states (TSs) first:"
   ]
  },
  {
   "cell_type": "code",
   "execution_count": 37,
   "id": "19ce933a",
   "metadata": {},
   "outputs": [
    {
     "name": "stdout",
     "output_type": "stream",
     "text": [
      "<class 'list'>\n",
      "4\n"
     ]
    },
    {
     "data": {
      "text/plain": [
       "['ts_geom_id',\n",
       " 'endpoint_geom_id',\n",
       " 'delta_free_energy',\n",
       " 'delta_energy',\n",
       " 'delta_enthalpy',\n",
       " 'delta_conf_free_energy',\n",
       " 'delta_avg_conf_energy',\n",
       " 'delta_entropy_j_mol_k',\n",
       " 'delta_conf_entropy_j_mol_k',\n",
       " 'delta_vib_entropy_j_mol_k',\n",
       " 'endpoint_conf_free_energy',\n",
       " 'ts_conf_free_energy',\n",
       " 'ts_atoms',\n",
       " 'endpoint_atoms']"
      ]
     },
     "metadata": {},
     "output_type": "display_data"
    }
   ],
   "source": [
    "cis_dic = sub_dic['results_by_mechanism']['cis']\n",
    "ts_list = cis_dic['ts']\n",
    "\n",
    "print(type(ts_list))\n",
    "print(len(ts_list))\n",
    "display(list(ts_list[0].keys()))"
   ]
  },
  {
   "cell_type": "markdown",
   "id": "7644ddab",
   "metadata": {},
   "source": [
    "We see that `ts` is a list of 4 dictionaries, one for each mechanism. Here is the meaning of each key (ignore anything with `geom_id` in it):\n",
    "\n",
    "- `delta_<quantity>`: Difference in `<quantity>` between the TS and the *cis* isomer (*cis* because we're looking at `sub_dic['results_by_mechanism']['cis']`). Different quantities are:\n",
    "    - `energy`\n",
    "    - `enthalpy`\n",
    "    - `conf_free_energy`: Conformational free energy ($-TS_{\\mathrm{conf}}$, where $S_{\\mathrm{conf}}$ is the conformational entropy)\n",
    "    - `entropy`\n",
    "    - `conf_entropy`: Conformational entropy\n",
    "    - `vib_entropy`: Vibrational entropy (entropy without the conformational compnonent)\n",
    "    - `avg_conf_energy`: The average energy of the conformer ensemble, relative to the lowest energy conformer. Given in kcal/mol, and equal to $\\sum_i p_i (E_i-E_{\\mathrm{min}})$, where the sum is over conformers, $p_i = \\mathrm{exp} (-E_i/k_{\\mathrm{B}} T) \\ / \\ [\\sum_j \\mathrm{exp}(E_j/k_{\\mathrm{B}} T)]$ is the probability of the $i^{\\mathrm{th}}$ conformer, and $E_{\\mathrm{min}}$ is the lowest energy in the ensemble.\n",
    "\n",
    "- `endpoint_<quantity>`: the value of a quantity for an endpoint (i.e., reactant or product). Since we're look at `sub_dic['results_by_mechanism']['cis']`, the endpoint here is *cistrans*. If `quantity` is atoms, then the value is an ASE atoms object.\n",
    "\n",
    "- `ts_<quantity>`: the value of a quantity for the TS\n",
    "\n",
    "**Units**: By default, all *absolute* energies are given in Hartrees (atomic units), while all *relative* energies are given in kcal/mol. If `j_mol_k` is specified, then entropies are given in units of $\\mathrm{J} / (\\mathrm{mol \\  K})$. Otherwise, both absolute and relative entropies are given in atomic units as $T \\cdot S$, where $T=298.15 \\ \\mathrm{K}$ is the temprature. \n",
    "\n",
    "Let's look at each mechanism and visualize the TSs:\n",
    "\n"
   ]
  },
  {
   "cell_type": "code",
   "execution_count": 38,
   "id": "4ef094d4",
   "metadata": {},
   "outputs": [
    {
     "data": {
      "text/plain": [
       "{'delta_free_energy': 30.820148961967195,\n",
       " 'delta_energy': 32.984694537517385,\n",
       " 'delta_enthalpy': 30.656765290672496,\n",
       " 'delta_conf_free_energy': 0.18298129093378782,\n",
       " 'delta_avg_conf_energy': 0.191860422567312,\n",
       " 'delta_entropy_j_mol_k': -2.292796514160753,\n",
       " 'delta_conf_entropy_j_mol_k': -2.5678139234176363,\n",
       " 'delta_vib_entropy_j_mol_k': 0.2750174092568528,\n",
       " 'endpoint_conf_free_energy': -0.001018021300492071,\n",
       " 'ts_conf_free_energy': -0.0007264218319047075}"
      ]
     },
     "metadata": {},
     "output_type": "display_data"
    },
    {
     "data": {
      "application/vnd.jupyter.widget-view+json": {
       "model_id": "f990faac70a54402b255b4b072b865bc",
       "version_major": 2,
       "version_minor": 0
      },
      "text/plain": [
       "NGLWidget(max_frame=1)"
      ]
     },
     "metadata": {},
     "output_type": "display_data"
    },
    {
     "data": {
      "text/plain": [
       "{'delta_free_energy': 34.87174583758515,\n",
       " 'delta_energy': 36.367195562381816,\n",
       " 'delta_enthalpy': 34.98519002647618,\n",
       " 'delta_conf_free_energy': -0.05169594959487424,\n",
       " 'delta_avg_conf_energy': 0.23552907112562413,\n",
       " 'delta_entropy_j_mol_k': 1.5919855318466523,\n",
       " 'delta_conf_entropy_j_mol_k': 0.7254598460672609,\n",
       " 'delta_vib_entropy_j_mol_k': 0.8665256857793607,\n",
       " 'endpoint_conf_free_energy': -0.001018021300492071,\n",
       " 'ts_conf_free_energy': -0.0011004041023241948}"
      ]
     },
     "metadata": {},
     "output_type": "display_data"
    },
    {
     "data": {
      "application/vnd.jupyter.widget-view+json": {
       "model_id": "5445274b6e6442c48eda947c82ae8d45",
       "version_major": 2,
       "version_minor": 0
      },
      "text/plain": [
       "NGLWidget(max_frame=1)"
      ]
     },
     "metadata": {},
     "output_type": "display_data"
    },
    {
     "data": {
      "text/plain": [
       "{'delta_free_energy': 34.87431903986289,\n",
       " 'delta_energy': 36.36717288290034,\n",
       " 'delta_enthalpy': 34.98258057858952,\n",
       " 'delta_conf_free_energy': -0.046874688701910416,\n",
       " 'delta_avg_conf_energy': 0.23437111005318326,\n",
       " 'delta_entropy_j_mol_k': 1.5192563408761184,\n",
       " 'delta_conf_entropy_j_mol_k': 0.6578021047418857,\n",
       " 'delta_vib_entropy_j_mol_k': 0.861454236134204,\n",
       " 'endpoint_conf_free_energy': -0.001018021300492071,\n",
       " 'ts_conf_free_energy': -0.0010927209282295383}"
      ]
     },
     "metadata": {},
     "output_type": "display_data"
    },
    {
     "data": {
      "application/vnd.jupyter.widget-view+json": {
       "model_id": "2d353f9377bf40f3a09bb91d2dfec790",
       "version_major": 2,
       "version_minor": 0
      },
      "text/plain": [
       "NGLWidget(max_frame=1)"
      ]
     },
     "metadata": {},
     "output_type": "display_data"
    },
    {
     "data": {
      "text/plain": [
       "{'delta_free_energy': 30.81704745307957,\n",
       " 'delta_energy': 32.98490621267779,\n",
       " 'delta_enthalpy': 30.660028493818967,\n",
       " 'delta_conf_free_energy': 0.1804201662241379,\n",
       " 'delta_avg_conf_energy': 0.19201172595300736,\n",
       " 'delta_entropy_j_mol_k': -2.2034792069304268,\n",
       " 'delta_conf_entropy_j_mol_k': -2.5318731359443003,\n",
       " 'delta_vib_entropy_j_mol_k': 0.3283939290138611,\n",
       " 'endpoint_conf_free_energy': -0.001018021300492071,\n",
       " 'ts_conf_free_energy': -0.0007305032470073593}"
      ]
     },
     "metadata": {},
     "output_type": "display_data"
    },
    {
     "data": {
      "application/vnd.jupyter.widget-view+json": {
       "model_id": "20b8466242374c0b84c5a848002975dd",
       "version_major": 2,
       "version_minor": 0
      },
      "text/plain": [
       "NGLWidget(max_frame=1)"
      ]
     },
     "metadata": {},
     "output_type": "display_data"
    }
   ],
   "source": [
    "for ts_dic in ts_list:\n",
    "    display({key: val for key, val in ts_dic.items() if 'geom_id' not in key\n",
    "             and 'atoms' not in key})\n",
    "    trj = [ts_dic[key] for key in ['endpoint_atoms', 'ts_atoms']]\n",
    "    display(nv.show_asetraj(trj))"
   ]
  },
  {
   "cell_type": "markdown",
   "id": "09645f0c",
   "metadata": {},
   "source": [
    "We see two inversion mechanisms and two rotations. The rotational barrier is 4 kcal/mol lower than the inversion barrier."
   ]
  },
  {
   "cell_type": "markdown",
   "id": "f4ffecae",
   "metadata": {},
   "source": [
    "### Singlet-triplet crossings\n",
    "\n",
    "Now let's look at singlet-triplet crossings:"
   ]
  },
  {
   "cell_type": "code",
   "execution_count": 39,
   "id": "7dd5c0ef",
   "metadata": {
    "scrolled": true
   },
   "outputs": [
    {
     "data": {
      "text/plain": [
       "[[{'s_t_crossing_geom_id': 243495721,\n",
       "   'endpoint_geom_id': 223213660,\n",
       "   'delta_free_energy': 26.481164145500973,\n",
       "   'delta_enthalpy': 26.317780474206263,\n",
       "   'delta_conf_free_energy': 0.18298129093378782,\n",
       "   'delta_avg_conf_energy': 0.191860422567312,\n",
       "   'delta_eff_free_energy': 28.90471414781525,\n",
       "   'delta_entropy_j_mol_k': -2.292796514160753,\n",
       "   'delta_conf_entropy_j_mol_k': -2.5678139234176363,\n",
       "   'delta_vib_entropy_j_mol_k': 0.2750174092568528,\n",
       "   'delta_eff_entropy_j_mol_k': -36.30296994928712,\n",
       "   'endpoint_conf_free_energy': -0.001018021300492071,\n",
       "   's_t_crossing_conf_free_energy': -0.0007264218319047075,\n",
       "   'endpoint': 'cis',\n",
       "   't_isc': 5.83526486568076e-12,\n",
       "   's_t_crossing_atoms': Atoms(symbols='FC6N2C6FH8', pbc=False),\n",
       "   'endpoint_atoms': Atoms(symbols='FC6N2C6FH8', pbc=False)},\n",
       "  {'s_t_crossing_geom_id': 243495723,\n",
       "   'endpoint_geom_id': 248437562,\n",
       "   'delta_free_energy': 25.63805796424636,\n",
       "   'delta_enthalpy': 25.47467429295165,\n",
       "   'delta_conf_free_energy': 0.18298129093378782,\n",
       "   'delta_avg_conf_energy': 0.191860422567312,\n",
       "   'delta_eff_free_energy': 27.898200365791066,\n",
       "   'delta_entropy_j_mol_k': -2.292796514160753,\n",
       "   'delta_conf_entropy_j_mol_k': -2.5678139234176363,\n",
       "   'delta_vib_entropy_j_mol_k': 0.2750174092568528,\n",
       "   'delta_eff_entropy_j_mol_k': -34.00983762790571,\n",
       "   'endpoint_conf_free_energy': -0.001018021300492071,\n",
       "   's_t_crossing_conf_free_energy': -0.0007264218319047075,\n",
       "   'endpoint': 'trans',\n",
       "   't_isc': 4.428758216975692e-12,\n",
       "   's_t_crossing_atoms': Atoms(symbols='FC6N2C6FH8', pbc=False),\n",
       "   'endpoint_atoms': Atoms(symbols='FC6N2C6FH8', pbc=False)}]]"
      ]
     },
     "metadata": {},
     "output_type": "display_data"
    }
   ],
   "source": [
    "s_t_list = cis_dic['s_t_crossing']\n",
    "display(s_t_list)\n"
   ]
  },
  {
   "cell_type": "markdown",
   "id": "01d7c720",
   "metadata": {},
   "source": [
    "Many of the keys are the same as for TSs, but the structure is different. Here we have a list of lists. Each sub-list has two dictionaries, one for the crossing closer to *cis*, and one for the crosisng closer to *trans*. The closer isomer is indicated by `endpoint`. We can test to see if that's true:"
   ]
  },
  {
   "cell_type": "code",
   "execution_count": 40,
   "id": "b6a63fea",
   "metadata": {},
   "outputs": [
    {
     "data": {
      "application/vnd.jupyter.widget-view+json": {
       "model_id": "03ea5e6b70a94f95a1f29d69d2cdac07",
       "version_major": 2,
       "version_minor": 0
      },
      "text/plain": [
       "NGLWidget(max_frame=1)"
      ]
     },
     "metadata": {},
     "output_type": "display_data"
    },
    {
     "name": "stdout",
     "output_type": "stream",
     "text": [
      "[75.19895318677847, 105.40228347744296]\n"
     ]
    }
   ],
   "source": [
    "trj = [d['s_t_crossing_atoms'] for d in s_t_list[0]]\n",
    "display(nv.show_asetraj(trj))\n",
    "diheds = [i.get_dihedral(6, 7, 8, 9) for i in trj]\n",
    "print(diheds)\n"
   ]
  },
  {
   "cell_type": "markdown",
   "id": "e9569f27",
   "metadata": {},
   "source": [
    "As promised, the first geometry is closer to *cis* (the first dictionary has `'endpoint': 'cis'`), and the second is closer to *trans*. We can see that both visually and from looking at the dihedral angles, which are $75^{\\circ} < 90^{\\circ} $ and $105^{\\circ} > 90^{\\circ}$, respectively.\n",
    "\n",
    "There are also some keys that aren't in the TS dictionary:\n",
    "\n",
    "- `delta_eff_free_energy`: The effective free energy difference between the crossing geometry and the higher energy relaxed isomer (in this case, the *cis* isomer). It is given by\n",
    "\n",
    "$\\Delta G^{X, \\mathrm{eff}} = \\Delta H^{\\mathrm{X}} + \\Delta S^{\\mathrm{app}}$\n",
    "\n",
    "$ \\Delta S^{\\mathrm{app}} = \\Delta S^{\\mathrm{X}} + k_{\\mathrm{B}} \\left( \\mathrm{log} \\frac{h k_{\\mathrm{ISC}} }{k_{\\mathrm{B}} T } - \\frac{1}{2} \\right)  $\n",
    "\n",
    "\n",
    " Here $\\Delta H^{\\mathrm{X}}$ is the difference in enthalpy between the crossing point (\"`X`\") and the endpoint. $\\Delta S^{\\mathrm{app}}$ is the entropy that would be inferred from experiment if one assumed an Arrhenius TS relation. It includes the actual entropy difference, $\\Delta S^{\\mathrm{X}}$, and a term related to the intersystem crossing rate, $k_{\\mathrm{ISC}}$.\n",
    "\n",
    "- `delta_eff_entropy`: the effective (or apparent) activation entropy defined above \n",
    "- `s_t_crossing_conf_free_energy`: the conformational free energy at the crossing point\n",
    "- `t_isc`: the intersystem crossing time, defined as $1/k_{\\mathrm{ISC}}$, where $k_{\\mathrm{ISC}}$ is the intersystem crossing rate. Given in seconds.\n",
    "    - Note that `t_isc` is about 1.3 times longer for the crossing on the *cis* side than the crossing on the *trans* side. The rate is therefore 1.3 times smaller. This is because the rate gets multiplied by 2 when going from singlet to triplet (*cis* side), and three when going from triplet to singlet (*trans* side). The ratio is not exactly 1.5, since the different potential energy surfaces on either side also affect the rates.\n",
    "\n"
   ]
  },
  {
   "cell_type": "markdown",
   "id": "cfbfea65",
   "metadata": {},
   "source": [
    "## `summary` \n",
    "\n",
    "Now that we've seen `results_by_mechanism`, let's take a look at `summary`:"
   ]
  },
  {
   "cell_type": "code",
   "execution_count": 63,
   "id": "e19896b2",
   "metadata": {},
   "outputs": [
    {
     "data": {
      "text/plain": [
       "dict_keys(['s_t_crossing', 'trans', 'cis'])"
      ]
     },
     "metadata": {},
     "output_type": "display_data"
    }
   ],
   "source": [
    "summary = sub_dic[\"summary\"]\n",
    "display(summary.keys())\n"
   ]
  },
  {
   "cell_type": "markdown",
   "id": "4e225c50",
   "metadata": {},
   "source": [
    "`summary` has three keys:\n",
    "- `trans`: Information about the TS free energy, energy, etc. relative to the *trans* isomer\n",
    "- `cis`: Information about the TS free energy, energy, etc. relative to the *cis* isomer\n",
    "- `s_t_crossing`: summary information about singlet-triplet crossing\n"
   ]
  },
  {
   "cell_type": "markdown",
   "id": "c45c104f",
   "metadata": {},
   "source": [
    "###  `trans`  and `cis`\n",
    "`summary[\"trans\"]` and `summary[\"cis\"]` look a lot like one of our mechanism dictionaries, but it's specifically for the TS with the lowest free energy:"
   ]
  },
  {
   "cell_type": "code",
   "execution_count": 64,
   "id": "86249679",
   "metadata": {},
   "outputs": [
    {
     "data": {
      "text/plain": [
       "['ts_geom_id',\n",
       " 'endpoint_geom_id',\n",
       " 'delta_free_energy',\n",
       " 'delta_energy',\n",
       " 'delta_enthalpy',\n",
       " 'delta_conf_free_energy',\n",
       " 'delta_avg_conf_energy',\n",
       " 'delta_entropy_j_mol_k',\n",
       " 'delta_conf_entropy_j_mol_k',\n",
       " 'delta_vib_entropy_j_mol_k',\n",
       " 'endpoint_conf_free_energy',\n",
       " 'ts_conf_free_energy',\n",
       " 'ts_atoms',\n",
       " 'endpoint_atoms']"
      ]
     },
     "metadata": {},
     "output_type": "display_data"
    },
    {
     "name": "stdout",
     "output_type": "stream",
     "text": [
      "True\n"
     ]
    }
   ],
   "source": [
    "display(list(summary[\"trans\"].keys()))\n",
    "print(summary[\"trans\"].keys() == summary[\"cis\"].keys())"
   ]
  },
  {
   "cell_type": "markdown",
   "id": "a74cb732",
   "metadata": {},
   "source": [
    "### `s_t_crossing`.\n",
    "\n",
    "Now let's look at `s_t_crossing`:"
   ]
  },
  {
   "cell_type": "code",
   "execution_count": 68,
   "id": "b523aa19",
   "metadata": {},
   "outputs": [
    {
     "data": {
      "text/plain": [
       "['unstable_side', 'stable_side']"
      ]
     },
     "metadata": {},
     "output_type": "display_data"
    },
    {
     "data": {
      "text/plain": [
       "['s_t_crossing_geom_id',\n",
       " 'endpoint_geom_id',\n",
       " 'delta_free_energy',\n",
       " 'delta_enthalpy',\n",
       " 'delta_conf_free_energy',\n",
       " 'delta_avg_conf_energy',\n",
       " 'delta_eff_free_energy',\n",
       " 'delta_entropy_j_mol_k',\n",
       " 'delta_conf_entropy_j_mol_k',\n",
       " 'delta_vib_entropy_j_mol_k',\n",
       " 'delta_eff_entropy_j_mol_k',\n",
       " 'endpoint_conf_free_energy',\n",
       " 's_t_crossing_conf_free_energy',\n",
       " 'endpoint',\n",
       " 't_isc',\n",
       " 's_t_crossing_atoms',\n",
       " 'endpoint_atoms']"
      ]
     },
     "metadata": {},
     "output_type": "display_data"
    },
    {
     "name": "stdout",
     "output_type": "stream",
     "text": [
      "True\n"
     ]
    }
   ],
   "source": [
    "display(list(summary[\"s_t_crossing\"].keys()))\n",
    "display(list(summary[\"s_t_crossing\"][\"unstable_side\"].keys()))\n",
    "print(summary[\"s_t_crossing\"][\"unstable_side\"].keys() == summary[\"s_t_crossing\"][\"stable_side\"].keys())"
   ]
  },
  {
   "cell_type": "markdown",
   "id": "4a11a7ef",
   "metadata": {},
   "source": [
    "We see that `s_t_crossing` has two separate dictionaries, one with free energies (and effective free energies, enthalpies, etc.) relative to the unstable isomer, and one relative to the stable isomer."
   ]
  },
  {
   "cell_type": "code",
   "execution_count": 75,
   "id": "bea70708",
   "metadata": {
    "scrolled": true
   },
   "outputs": [
    {
     "name": "stdout",
     "output_type": "stream",
     "text": [
      "unstable_side\n"
     ]
    },
    {
     "data": {
      "text/plain": [
       "{'delta_free_energy': 26.481164145500973,\n",
       " 'delta_enthalpy': 26.317780474206263,\n",
       " 'delta_conf_free_energy': 0.18298129093378782,\n",
       " 'delta_avg_conf_energy': 0.191860422567312,\n",
       " 'delta_eff_free_energy': 28.90471414781525,\n",
       " 'delta_entropy_j_mol_k': -2.292796514160753,\n",
       " 'delta_conf_entropy_j_mol_k': -2.5678139234176363,\n",
       " 'delta_vib_entropy_j_mol_k': 0.2750174092568528,\n",
       " 'delta_eff_entropy_j_mol_k': -36.30296994928712,\n",
       " 'endpoint_conf_free_energy': -0.001018021300492071,\n",
       " 's_t_crossing_conf_free_energy': -0.0007264218319047075,\n",
       " 'endpoint': 'cis',\n",
       " 't_isc': 5.83526486568076e-12}"
      ]
     },
     "metadata": {},
     "output_type": "display_data"
    },
    {
     "data": {
      "application/vnd.jupyter.widget-view+json": {
       "model_id": "ae2aebcda9a44fc0a8ce69b9ee9830e4",
       "version_major": 2,
       "version_minor": 0
      },
      "text/plain": [
       "NGLWidget(max_frame=1)"
      ]
     },
     "metadata": {},
     "output_type": "display_data"
    },
    {
     "name": "stdout",
     "output_type": "stream",
     "text": [
      "stable_side\n"
     ]
    },
    {
     "data": {
      "text/plain": [
       "{'delta_free_energy': 25.63805796424636,\n",
       " 'delta_enthalpy': 25.47467429295165,\n",
       " 'delta_conf_free_energy': 0.18298129093378782,\n",
       " 'delta_avg_conf_energy': 0.191860422567312,\n",
       " 'delta_eff_free_energy': 27.898200365791066,\n",
       " 'delta_entropy_j_mol_k': -2.292796514160753,\n",
       " 'delta_conf_entropy_j_mol_k': -2.5678139234176363,\n",
       " 'delta_vib_entropy_j_mol_k': 0.2750174092568528,\n",
       " 'delta_eff_entropy_j_mol_k': -34.00983762790571,\n",
       " 'endpoint_conf_free_energy': -0.001018021300492071,\n",
       " 's_t_crossing_conf_free_energy': -0.0007264218319047075,\n",
       " 'endpoint': 'trans',\n",
       " 't_isc': 4.428758216975692e-12}"
      ]
     },
     "metadata": {},
     "output_type": "display_data"
    },
    {
     "data": {
      "application/vnd.jupyter.widget-view+json": {
       "model_id": "b9eae6127d5e46d997f16ffc49faf300",
       "version_major": 2,
       "version_minor": 0
      },
      "text/plain": [
       "NGLWidget(max_frame=1)"
      ]
     },
     "metadata": {},
     "output_type": "display_data"
    }
   ],
   "source": [
    "for key, dic in summary[\"s_t_crossing\"].items():\n",
    "    print(key)\n",
    "    display({key: val for key, val in dic.items() if 'geom_id' not in key\n",
    "             and 'atoms' not in key})\n",
    "    trj = [dic[key] for key in ['endpoint_atoms', 's_t_crossing_atoms']]\n",
    "    display(nv.show_asetraj(trj))"
   ]
  },
  {
   "cell_type": "markdown",
   "id": "7e4b9f0b",
   "metadata": {},
   "source": [
    "# Conclusion\n",
    "\n",
    "In this tutorial we learned how to load and understand the published barrier data. Now you're ready for the next tutorial, in which we plot and analyze the data!"
   ]
  },
  {
   "cell_type": "code",
   "execution_count": null,
   "id": "cbcaea74",
   "metadata": {},
   "outputs": [],
   "source": []
  }
 ],
 "metadata": {
  "kernelspec": {
   "display_name": "Python [conda env:barriers]",
   "language": "python",
   "name": "barriers"
  },
  "language_info": {
   "codemirror_mode": {
    "name": "ipython",
    "version": 3
   },
   "file_extension": ".py",
   "mimetype": "text/x-python",
   "name": "python",
   "nbconvert_exporter": "python",
   "pygments_lexer": "ipython3",
   "version": "3.9.12"
  }
 },
 "nbformat": 4,
 "nbformat_minor": 5
}
