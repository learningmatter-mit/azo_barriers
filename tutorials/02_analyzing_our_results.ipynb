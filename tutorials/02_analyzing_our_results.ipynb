{
 "cells": [
  {
   "cell_type": "markdown",
   "id": "f1ee7404",
   "metadata": {},
   "source": [
    "# Analyzing our results\n",
    "\n",
    "In the first tutorial you learned how to load and interpret our published barrier results. Here you'll explore and analyze the data."
   ]
  },
  {
   "cell_type": "markdown",
   "id": "eb8ebe6a",
   "metadata": {},
   "source": [
    "Let's first start with imports:"
   ]
  },
  {
   "cell_type": "code",
   "execution_count": 1,
   "id": "d3604ed4",
   "metadata": {},
   "outputs": [
    {
     "data": {
      "application/vnd.jupyter.widget-view+json": {
       "model_id": "29781385e27d4f97bdaf7ee67b40ff68",
       "version_major": 2,
       "version_minor": 0
      },
      "text/plain": []
     },
     "metadata": {},
     "output_type": "display_data"
    }
   ],
   "source": [
    "%load_ext autoreload\n",
    "%autoreload 2\n",
    "\n",
    "import pickle\n",
    "import nglview as nv\n",
    "\n"
   ]
  },
  {
   "cell_type": "code",
   "execution_count": null,
   "id": "8012406d",
   "metadata": {},
   "outputs": [],
   "source": []
  }
 ],
 "metadata": {
  "kernelspec": {
   "display_name": "Python [conda env:barriers]",
   "language": "python",
   "name": "barriers"
  },
  "language_info": {
   "codemirror_mode": {
    "name": "ipython",
    "version": 3
   },
   "file_extension": ".py",
   "mimetype": "text/x-python",
   "name": "python",
   "nbconvert_exporter": "python",
   "pygments_lexer": "ipython3",
   "version": "3.9.12"
  }
 },
 "nbformat": 4,
 "nbformat_minor": 5
}
