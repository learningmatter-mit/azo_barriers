{
 "cells": [
  {
   "cell_type": "markdown",
   "id": "98e5ad56",
   "metadata": {},
   "source": [
    "# Loading your results \n",
    "In the previous tutorials we saw how to load the published data accompanying the paper. Here we'll see how to load results that you create for your own molecules."
   ]
  },
  {
   "cell_type": "markdown",
   "id": "7e717eca",
   "metadata": {},
   "source": [
    "## Running your workflow\n",
    "As explained in the README of this package, you can run your own workflow by navigating to `examples` and running `./run.sh`. To use your own molecules, simply set `smiles_list` to your SMILES strings of interest in `examples/job_info.json`. Other parameters can be changed too; we'll talk about those in the next tutorial."
   ]
  },
  {
   "cell_type": "markdown",
   "id": "8ee90329",
   "metadata": {},
   "source": [
    "## Loading workflow results\n",
    "The workflow results are saved in `examples/summary.pickle`. Let's start with imports and then load the results:"
   ]
  },
  {
   "cell_type": "code",
   "execution_count": 1,
   "id": "8a95f1f7",
   "metadata": {},
   "outputs": [],
   "source": [
    "%load_ext autoreload\n",
    "%autoreload 2"
   ]
  },
  {
   "cell_type": "code",
   "execution_count": 2,
   "id": "bf03d5ae",
   "metadata": {},
   "outputs": [
    {
     "data": {
      "application/vnd.jupyter.widget-view+json": {
       "model_id": "c00dfdd23edf4a658eef6c30b6796a3e",
       "version_major": 2,
       "version_minor": 0
      },
      "text/plain": []
     },
     "metadata": {},
     "output_type": "display_data"
    }
   ],
   "source": [
    "import pickle\n",
    "import nglview as nv\n",
    "from ase import Atoms\n",
    "import numpy as np\n",
    "from matplotlib import pyplot as plt\n",
    "from ase.build.rotate import minimize_rotation_and_translation as align\n",
    "import copy\n",
    "\n"
   ]
  },
  {
   "cell_type": "code",
   "execution_count": 3,
   "id": "cdce70ef",
   "metadata": {},
   "outputs": [
    {
     "name": "stdout",
     "output_type": "stream",
     "text": [
      "2\n"
     ]
    }
   ],
   "source": [
    "path = \"../examples/summary.pickle\"\n",
    "with open(path, 'rb') as f:\n",
    "    info = pickle.load(f)\n",
    "\n",
    "print(len(info))"
   ]
  },
  {
   "cell_type": "markdown",
   "id": "bcb9e99e",
   "metadata": {},
   "source": [
    "The data follows the same structure that we saw in previous tutorials:"
   ]
  },
  {
   "cell_type": "code",
   "execution_count": 4,
   "id": "4e84ace9",
   "metadata": {},
   "outputs": [
    {
     "data": {
      "text/plain": [
       "['CC(=O)Oc1cc(N(C)Cc2ccccn2)c(/N=N\\\\c2ccccc2N(C)Cc2ccccn2)cc1C',\n",
       " 'Fc1cc(F)c(/N=N\\\\c2c(F)cc(F)cc2F)c(F)c1']"
      ]
     },
     "metadata": {},
     "output_type": "display_data"
    },
    {
     "data": {
      "text/plain": [
       "['transition_states',\n",
       " 'trans',\n",
       " 'cis',\n",
       " 'results_by_mechanism',\n",
       " 'summary',\n",
       " 'cis_smiles',\n",
       " 'trans_smiles',\n",
       " 'stable',\n",
       " 'unstable']"
      ]
     },
     "metadata": {},
     "output_type": "display_data"
    }
   ],
   "source": [
    "keys = list(info.keys())\n",
    "display(keys) # keys are SMILES strings\n",
    "key = keys[0]\n",
    "\n",
    "sub_dic = info[key]\n",
    "display(list(sub_dic.keys()))"
   ]
  },
  {
   "cell_type": "markdown",
   "id": "2cb5aaae",
   "metadata": {},
   "source": [
    "The dictionary contains all the information that was in the `json` files we saw, plus `nxyz` for the geometries. For example:"
   ]
  },
  {
   "cell_type": "code",
   "execution_count": 5,
   "id": "3c05016a",
   "metadata": {
    "scrolled": true
   },
   "outputs": [
    {
     "data": {
      "text/plain": [
       "['mechanism',\n",
       " 'confnum',\n",
       " 'converged',\n",
       " 'entropy',\n",
       " 'free_energy',\n",
       " 'enthalpy',\n",
       " 'vibfreqs',\n",
       " 'energy',\n",
       " 'nxyz',\n",
       " 'ts_specific_conf_free_energy',\n",
       " 'ts_specific_avg_conf_energy',\n",
       " 'ts_specific_conf_entropy',\n",
       " 'ts_specific_entropy',\n",
       " 'ts_specific_free_energy',\n",
       " 'ts_specific_enthalpy',\n",
       " 'rot_conf_free_energy',\n",
       " 'rot_avg_conf_energy',\n",
       " 'rot_conf_entropy',\n",
       " 'rot_entropy',\n",
       " 'rot_free_energy',\n",
       " 'rot_enthalpy',\n",
       " 'conf_free_energy',\n",
       " 'avg_conf_energy',\n",
       " 'conf_entropy',\n",
       " 'vib_entropy',\n",
       " 's_t_crossing',\n",
       " 'irc_path',\n",
       " 'irc_energies']"
      ]
     },
     "metadata": {},
     "output_type": "display_data"
    }
   ],
   "source": [
    "# get the TS with the lowest free energy\n",
    "\n",
    "ts_list = []\n",
    "for this_ts_list in sub_dic['transition_states']:\n",
    "    ts_list += this_ts_list\n",
    "    \n",
    "ts = sorted(ts_list, key=lambda x: x['free_energy'])[0]\n",
    "display(list(ts.keys()))"
   ]
  },
  {
   "cell_type": "markdown",
   "id": "f2391cba",
   "metadata": {},
   "source": [
    "It also contains information from our IRC jobs, which we can use to check that we have a real TS:\n",
    "\n"
   ]
  },
  {
   "cell_type": "code",
   "execution_count": 6,
   "id": "2d08a2ee",
   "metadata": {},
   "outputs": [
    {
     "data": {
      "image/png": "[encoded data removed]",
      "text/plain": [
       "<Figure size 432x288 with 1 Axes>"
      ]
     },
     "metadata": {
      "needs_background": "light"
     },
     "output_type": "display_data"
    },
    {
     "data": {
      "application/vnd.jupyter.widget-view+json": {
       "model_id": "67ec579db60448a297e1dacad9efc71b",
       "version_major": 2,
       "version_minor": 0
      },
      "text/plain": [
       "NGLWidget(max_frame=42)"
      ]
     },
     "metadata": {},
     "output_type": "display_data"
    }
   ],
   "source": [
    "def to_atoms(nxyz):\n",
    "    nxyz = np.array(nxyz)\n",
    "    atoms = Atoms(positions=nxyz[:, 1:],\n",
    "                  numbers=nxyz[:, 0])\n",
    "    return atoms\n",
    "\n",
    "def get_rmsd(target, atoms):\n",
    "    new_targ = copy.deepcopy(target)\n",
    "    new_atoms = copy.deepcopy(atoms)\n",
    "    align(new_targ, new_atoms)\n",
    "    rmsd = (((new_targ.get_positions()\n",
    "            - new_atoms.get_positions()) ** 2).sum() / len(new_targ)) ** 0.5\n",
    "    return rmsd\n",
    "    \n",
    "    \n",
    "\n",
    "irc_trj = [to_atoms(i) for i in ts['irc_path']]\n",
    "irc_ens = np.array(ts['irc_energies'])\n",
    "irc_ens = (irc_ens - min(irc_ens)) * 627.5\n",
    "step_sizes = [get_rmsd(atoms, irc_trj[i - 1]) for i, atoms in enumerate(irc_trj)\n",
    "             if i != 0]\n",
    "x_vals = [0] + np.cumsum(step_sizes).tolist()\n",
    "\n",
    "plt.plot(x_vals, irc_ens, '-*')\n",
    "plt.xlabel(\"Distance (Angstrom)\")\n",
    "plt.ylabel(\"Relative energy (kcal/mol)\")\n",
    "plt.show()\n",
    "display(nv.show_asetraj(irc_trj))\n",
    "\n"
   ]
  },
  {
   "cell_type": "markdown",
   "id": "a39b5f15",
   "metadata": {},
   "source": [
    "Notice that *trans* is still quite far from converged, due to the loose IRC convergence thresholds.\n",
    "\n",
    "We can also look at the TS and check its frequencies:"
   ]
  },
  {
   "cell_type": "code",
   "execution_count": 7,
   "id": "c8cc2bd9",
   "metadata": {},
   "outputs": [
    {
     "data": {
      "application/vnd.jupyter.widget-view+json": {
       "model_id": "962b88fe201b4458841d0b21f1d8ff07",
       "version_major": 2,
       "version_minor": 0
      },
      "text/plain": [
       "NGLWidget()"
      ]
     },
     "metadata": {},
     "output_type": "display_data"
    },
    {
     "data": {
      "text/plain": [
       "[-773.5460486598569,\n",
       " 14.87128137979552,\n",
       " 21.285505368940058,\n",
       " 30.327654680296607,\n",
       " 31.1589775811877]"
      ]
     },
     "metadata": {},
     "output_type": "display_data"
    }
   ],
   "source": [
    "atoms = to_atoms(ts['nxyz'])\n",
    "display(nv.show_ase(atoms))\n",
    "display(ts['vibfreqs'][:5])"
   ]
  },
  {
   "cell_type": "markdown",
   "id": "b27a33a1",
   "metadata": {},
   "source": [
    "And we can compare the TS-specific conformational free energy with the total value and the rotational TS value:"
   ]
  },
  {
   "cell_type": "code",
   "execution_count": 8,
   "id": "800b3270",
   "metadata": {},
   "outputs": [
    {
     "name": "stdout",
     "output_type": "stream",
     "text": [
      "-2.0380650261539457\n",
      "-2.4251731028557995\n",
      "-2.4241330437891913\n"
     ]
    }
   ],
   "source": [
    "ha_to_kcal = 627.5\n",
    "print(ts['ts_specific_conf_free_energy'] * ha_to_kcal)\n",
    "print(ts['conf_free_energy'] * ha_to_kcal)\n",
    "print(ts['rot_conf_free_energy'] * ha_to_kcal)"
   ]
  },
  {
   "cell_type": "markdown",
   "id": "5bc52cbb",
   "metadata": {},
   "source": [
    "We can look at the summary of TS quantities:"
   ]
  },
  {
   "cell_type": "code",
   "execution_count": 9,
   "id": "b2216e7d",
   "metadata": {
    "scrolled": true
   },
   "outputs": [
    {
     "data": {
      "text/plain": [
       "['ts_nxyz',\n",
       " 'endpoint_nxyz',\n",
       " 'delta_free_energy',\n",
       " 'delta_energy',\n",
       " 'delta_enthalpy',\n",
       " 'delta_conf_free_energy',\n",
       " 'delta_avg_conf_energy',\n",
       " 'delta_entropy_j_mol_k',\n",
       " 'delta_conf_entropy_j_mol_k',\n",
       " 'delta_vib_entropy_j_mol_k',\n",
       " 'endpoint_conf_free_energy',\n",
       " 'ts_conf_free_energy',\n",
       " 'mechanism',\n",
       " 'confnum',\n",
       " 'irc_energies',\n",
       " 'irc_path']"
      ]
     },
     "metadata": {},
     "output_type": "display_data"
    },
    {
     "data": {
      "text/plain": [
       "{'delta_free_energy': 26.537791098711544,\n",
       " 'delta_energy': 30.593001310275966,\n",
       " 'delta_enthalpy': 28.518946126407677,\n",
       " 'delta_conf_free_energy': -1.067314644258302,\n",
       " 'delta_avg_conf_energy': 0.07457688037228159,\n",
       " 'delta_entropy_j_mol_k': 27.80195417031855,\n",
       " 'delta_conf_entropy_j_mol_k': 14.977844949108622,\n",
       " 'delta_vib_entropy_j_mol_k': 12.82410922120996,\n",
       " 'endpoint_conf_free_energy': -0.002163942257332949,\n",
       " 'ts_conf_free_energy': -0.0038648176937941025,\n",
       " 'mechanism': 'left_rot',\n",
       " 'confnum': 1}"
      ]
     },
     "metadata": {},
     "output_type": "display_data"
    },
    {
     "data": {
      "application/vnd.jupyter.widget-view+json": {
       "model_id": "73e265fcd4a843379d390954a7e1b780",
       "version_major": 2,
       "version_minor": 0
      },
      "text/plain": [
       "NGLWidget(max_frame=1)"
      ]
     },
     "metadata": {},
     "output_type": "display_data"
    },
    {
     "data": {
      "application/vnd.jupyter.widget-view+json": {
       "model_id": "d58fd035ff9d4a1bb942c05eef6f5cf2",
       "version_major": 2,
       "version_minor": 0
      },
      "text/plain": [
       "NGLWidget(max_frame=42)"
      ]
     },
     "metadata": {},
     "output_type": "display_data"
    }
   ],
   "source": [
    "cis_dic = sub_dic['summary']['cis']\n",
    "\n",
    "display(list(cis_dic.keys()))\n",
    "display({key: val for key, val in cis_dic.items() if \n",
    "         not any([i in key for i in ['nxyz', 'freqs', 'irc']])})\n",
    "\n",
    "trj = [to_atoms(cis_dic['endpoint_nxyz']), to_atoms(cis_dic['ts_nxyz'])]\n",
    "display(nv.show_asetraj(trj))\n",
    "\n",
    "irc_trj = [to_atoms(i) for i in cis_dic['irc_path']]\n",
    "display(nv.show_asetraj(irc_trj))\n",
    "\n",
    "\n"
   ]
  },
  {
   "cell_type": "markdown",
   "id": "100b231b",
   "metadata": {},
   "source": [
    "The quantities are the same as in the previous tutorials, with the addition of `irc_path` and `irc_energies`, plus `mechanism` and `confnum` for bookeeping (here the mechanism is a \"left\" rotation, and it's the conformer that was originally ranked 5th during conformer generation, but became 1st after eigenvector following).\n",
    "\n",
    "Let's take a look at the singlet-triplet crossings:"
   ]
  },
  {
   "cell_type": "code",
   "execution_count": 10,
   "id": "d08b38a3",
   "metadata": {},
   "outputs": [
    {
     "name": "stdout",
     "output_type": "stream",
     "text": [
      "Unstable side: cis\n"
     ]
    },
    {
     "data": {
      "text/plain": [
       "{'delta_free_energy': 24.011935596232505,\n",
       " 'delta_energy': 27.757593196451666,\n",
       " 'delta_enthalpy': 25.876244879395706,\n",
       " 'delta_conf_free_energy': -1.067314644258302,\n",
       " 'delta_avg_conf_energy': 0.07457688037228159,\n",
       " 'delta_eff_free_energy': 26.415389062037796,\n",
       " 'delta_entropy_j_mol_k': 26.162233911638616,\n",
       " 'delta_conf_entropy_j_mol_k': 14.977844949108622,\n",
       " 'delta_vib_entropy_j_mol_k': 11.18438896253003,\n",
       " 'delta_eff_entropy_j_mol_k': -7.565920711636074,\n",
       " 'endpoint_conf_free_energy': -0.002163942257332949,\n",
       " 's_t_crossing_conf_free_energy': None,\n",
       " 'endpoint': 'cis',\n",
       " 't_isc': 5.640716957988902e-12}"
      ]
     },
     "metadata": {},
     "output_type": "display_data"
    }
   ],
   "source": [
    "key = list(info.keys())[0]\n",
    "sub_dic = info[key]\n",
    "\n",
    "unstable = sub_dic['unstable']\n",
    "print(\"Unstable side: %s\" % unstable)\n",
    "\n",
    "summary = sub_dic['summary']\n",
    "s_t_dic = summary['s_t_crossing']\n",
    "stable_s_t = s_t_dic['stable_side']\n",
    "unstable_s_t = s_t_dic['unstable_side']\n",
    "\n",
    "display({key: val for key, val in unstable_s_t.items() if \n",
    "         'nxyz' not in key})"
   ]
  },
  {
   "cell_type": "code",
   "execution_count": 11,
   "id": "7555c4ac",
   "metadata": {},
   "outputs": [
    {
     "data": {
      "application/vnd.jupyter.widget-view+json": {
       "model_id": "56f48db0c28749cea18d74c4e268b098",
       "version_major": 2,
       "version_minor": 0
      },
      "text/plain": [
       "NGLWidget(max_frame=2)"
      ]
     },
     "metadata": {},
     "output_type": "display_data"
    }
   ],
   "source": [
    "nxyz_list = [s_t_dic['unstable_side']['endpoint_nxyz'],\n",
    "             s_t_dic['unstable_side']['s_t_crossing_nxyz'],\n",
    "             s_t_dic['stable_side']['s_t_crossing_nxyz']]\n",
    "trj = [to_atoms(i) for i in nxyz_list]\n",
    "display(nv.show_asetraj(trj))"
   ]
  },
  {
   "cell_type": "markdown",
   "id": "fef42ced",
   "metadata": {},
   "source": [
    "Lastly, let's check out the excitation energy/wavelength for the *cis* and *trans* isomers:"
   ]
  },
  {
   "cell_type": "code",
   "execution_count": 12,
   "id": "bb88a4d9",
   "metadata": {},
   "outputs": [
    {
     "name": "stdout",
     "output_type": "stream",
     "text": [
      "Cis isomer: gap = 3.01 eV, lambda = 411.96 nm\n",
      "Trans isomer: gap = 2.98 eV, lambda = 415.69 nm\n"
     ]
    }
   ],
   "source": [
    "for key in ['cis', 'trans']:\n",
    "    gap = sub_dic[key]['s0_s1_gap_ev']\n",
    "    lam = 1 / gap * 1.2398e3\n",
    "    upper_key = key[0].upper() + key[1:]\n",
    "    print(\"%s isomer: gap = %.2f eV, lambda = %.2f nm\" % (upper_key, gap, lam))\n",
    "\n"
   ]
  },
  {
   "cell_type": "markdown",
   "id": "86b3c3b4",
   "metadata": {},
   "source": [
    "And there you go: you've run a full workflow for your own molecules and analyzed your results!"
   ]
  },
  {
   "cell_type": "code",
   "execution_count": null,
   "id": "5c275920",
   "metadata": {},
   "outputs": [],
   "source": []
  }
 ],
 "metadata": {
  "kernelspec": {
   "display_name": "Python [conda env:barriers]",
   "language": "python",
   "name": "barriers"
  },
  "language_info": {
   "codemirror_mode": {
    "name": "ipython",
    "version": 3
   },
   "file_extension": ".py",
   "mimetype": "text/x-python",
   "name": "python",
   "nbconvert_exporter": "python",
   "pygments_lexer": "ipython3",
   "version": "3.9.12"
  }
 },
 "nbformat": 4,
 "nbformat_minor": 5
}
