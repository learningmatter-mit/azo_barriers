{
 "cells": [
  {
   "cell_type": "markdown",
   "id": "7a8b6990",
   "metadata": {},
   "source": [
    "# Loading your results \n",
    "In the previous tutorials we saw how to load the published data accompanying the paper. Here we'll see how to load results that you create for your own molecules."
   ]
  },
  {
   "cell_type": "markdown",
   "id": "247faa7a",
   "metadata": {},
   "source": [
    "## Running your workflow\n",
    "As explained in the README of this package, you can run your own workflow by navigating to `examples` and running `./run.sh`. To use your own molecules, simply set `smiles_list` to your SMILES strings of interest in `examples/job_info.json`. Other parameters can be changed too; we'll talk about those in the next tutorial."
   ]
  },
  {
   "cell_type": "markdown",
   "id": "e6238a9c",
   "metadata": {},
   "source": [
    "## Loading workflow results\n",
    "The workflow results are saved in `examples/summary.pickle`. Let's start with imports and then load the results:"
   ]
  },
  {
   "cell_type": "code",
   "execution_count": 1,
   "id": "46283f30",
   "metadata": {},
   "outputs": [],
   "source": [
    "%load_ext autoreload\n",
    "%autoreload 2"
   ]
  },
  {
   "cell_type": "code",
   "execution_count": 2,
   "id": "279b7ef7",
   "metadata": {},
   "outputs": [
    {
     "data": {
      "application/vnd.jupyter.widget-view+json": {
       "model_id": "6292cd9d21e04726a9c90b12d106d450",
       "version_major": 2,
       "version_minor": 0
      },
      "text/plain": []
     },
     "metadata": {},
     "output_type": "display_data"
    }
   ],
   "source": [
    "import pickle\n",
    "import nglview as nv\n",
    "from ase import Atoms\n",
    "import numpy as np\n",
    "from matplotlib import pyplot as plt\n",
    "from ase.build.rotate import minimize_rotation_and_translation as align\n",
    "import copy\n"
   ]
  },
  {
   "cell_type": "code",
   "execution_count": 3,
   "id": "01c1ee1e",
   "metadata": {},
   "outputs": [
    {
     "name": "stdout",
     "output_type": "stream",
     "text": [
      "1\n"
     ]
    }
   ],
   "source": [
    "path = \"../examples/summary.pickle\"\n",
    "with open(path, 'rb') as f:\n",
    "    info = pickle.load(f)\n",
    "\n",
    "print(len(info))"
   ]
  },
  {
   "cell_type": "markdown",
   "id": "44ef09a5",
   "metadata": {},
   "source": [
    "It turns out that only one molecule made it to the summary, because the *trans* isomer of the other one converged to a saddle point (large imaginary frequency), and was hence excluded.\n",
    "\n",
    "The data follows the same structure that we saw in previous tutorials:"
   ]
  },
  {
   "cell_type": "code",
   "execution_count": 4,
   "id": "4917036a",
   "metadata": {},
   "outputs": [
    {
     "data": {
      "text/plain": [
       "['CCN(c1ccccc1)c1cc(C(=O)NOC)ccc1/N=N\\\\c1ccc(C(=O)NOC)cc1N(CC)c1ccccc1']"
      ]
     },
     "metadata": {},
     "output_type": "display_data"
    },
    {
     "data": {
      "text/plain": [
       "['transition_states',\n",
       " 'cis',\n",
       " 'trans',\n",
       " 'results_by_mechanism',\n",
       " 'summary',\n",
       " 'cis_smiles',\n",
       " 'trans_smiles',\n",
       " 'stable',\n",
       " 'unstable']"
      ]
     },
     "metadata": {},
     "output_type": "display_data"
    }
   ],
   "source": [
    "keys = list(info.keys())\n",
    "display(keys) # keys are SMILES strings\n",
    "key = keys[0]\n",
    "\n",
    "sub_dic = info[key]\n",
    "display(list(sub_dic.keys()))"
   ]
  },
  {
   "cell_type": "markdown",
   "id": "248e939e",
   "metadata": {},
   "source": [
    "The dictionary contains all the information that was in the `json` files we saw, plus `nxyz` for the geometries. For example:"
   ]
  },
  {
   "cell_type": "code",
   "execution_count": 5,
   "id": "28596823",
   "metadata": {},
   "outputs": [
    {
     "data": {
      "text/plain": [
       "['mechanism',\n",
       " 'confnum',\n",
       " 'converged',\n",
       " 'entropy',\n",
       " 'free_energy',\n",
       " 'enthalpy',\n",
       " 'vibfreqs',\n",
       " 'energy',\n",
       " 'nxyz',\n",
       " 'ts_specific_conf_free_energy',\n",
       " 'ts_specific_avg_conf_energy',\n",
       " 'ts_specific_conf_entropy',\n",
       " 'ts_specific_entropy',\n",
       " 'ts_specific_free_energy',\n",
       " 'ts_specific_enthalpy',\n",
       " 'conf_free_energy',\n",
       " 'avg_conf_energy',\n",
       " 'conf_entropy',\n",
       " 'vib_entropy',\n",
       " 's_t_crossing',\n",
       " 'irc_path',\n",
       " 'irc_energies']"
      ]
     },
     "metadata": {},
     "output_type": "display_data"
    }
   ],
   "source": [
    "# get the TS with the lowest free energy\n",
    "\n",
    "ts_list = []\n",
    "for this_ts_list in sub_dic['transition_states']:\n",
    "    ts_list += this_ts_list\n",
    "    \n",
    "ts = sorted(ts_list, key=lambda x: x['free_energy'])[0]\n",
    "display(list(ts.keys()))"
   ]
  },
  {
   "cell_type": "markdown",
   "id": "42476cac",
   "metadata": {},
   "source": [
    "It also contains information from our IRC jobs, which we can use to check that we have a real TS:\n"
   ]
  },
  {
   "cell_type": "code",
   "execution_count": 6,
   "id": "e4a097a8",
   "metadata": {},
   "outputs": [
    {
     "data": {
      "image/png": "[encoded data removed]",
      "text/plain": [
       "<Figure size 432x288 with 1 Axes>"
      ]
     },
     "metadata": {
      "needs_background": "light"
     },
     "output_type": "display_data"
    },
    {
     "data": {
      "application/vnd.jupyter.widget-view+json": {
       "model_id": "25bb72e7850c44248d8d5a1271676345",
       "version_major": 2,
       "version_minor": 0
      },
      "text/plain": [
       "NGLWidget(max_frame=47)"
      ]
     },
     "metadata": {},
     "output_type": "display_data"
    }
   ],
   "source": [
    "def to_atoms(nxyz):\n",
    "    nxyz = np.array(nxyz)\n",
    "    atoms = Atoms(positions=nxyz[:, 1:],\n",
    "                  numbers=nxyz[:, 0])\n",
    "    return atoms\n",
    "\n",
    "def get_rmsd(target, atoms):\n",
    "    new_targ = copy.deepcopy(target)\n",
    "    new_atoms = copy.deepcopy(atoms)\n",
    "    align(new_targ, new_atoms)\n",
    "    rmsd = (((new_targ.get_positions()\n",
    "            - new_atoms.get_positions()) ** 2).sum() / len(new_targ)) ** 0.5\n",
    "    return rmsd\n",
    "    \n",
    "    \n",
    "\n",
    "irc_trj = [to_atoms(i) for i in ts['irc_path']]\n",
    "irc_ens = np.array(ts['irc_energies'])\n",
    "irc_ens = (irc_ens - min(irc_ens)) * 627.5\n",
    "step_sizes = [get_rmsd(atoms, irc_trj[i - 1]) for i, atoms in enumerate(irc_trj)\n",
    "             if i != 0]\n",
    "x_vals = [0] + np.cumsum(step_sizes).tolist()\n",
    "\n",
    "plt.plot(x_vals, irc_ens, '-*')\n",
    "plt.xlabel(\"Distance (Angstrom)\")\n",
    "plt.ylabel(\"Relative energy (kcal/mol)\")\n",
    "plt.show()\n",
    "display(nv.show_asetraj(irc_trj))\n"
   ]
  },
  {
   "cell_type": "markdown",
   "id": "1f908332",
   "metadata": {},
   "source": [
    "Notice that *trans* is still quite far from converged, due to the loose IRC convergence thresholds."
   ]
  },
  {
   "cell_type": "markdown",
   "id": "f88e1c33",
   "metadata": {},
   "source": [
    "We can also look at the TS and check its frequencies:"
   ]
  },
  {
   "cell_type": "code",
   "execution_count": 7,
   "id": "22c18e8f",
   "metadata": {},
   "outputs": [
    {
     "data": {
      "application/vnd.jupyter.widget-view+json": {
       "model_id": "ceaf8f4acaef4d0b82306a3c1f302c1b",
       "version_major": 2,
       "version_minor": 0
      },
      "text/plain": [
       "NGLWidget()"
      ]
     },
     "metadata": {},
     "output_type": "display_data"
    },
    {
     "data": {
      "text/plain": [
       "[-676.2538502108795,\n",
       " 10.280804310258203,\n",
       " 18.636242709532894,\n",
       " 21.029537611229596,\n",
       " 23.045053067668473]"
      ]
     },
     "metadata": {},
     "output_type": "display_data"
    }
   ],
   "source": [
    "atoms = to_atoms(ts['nxyz'])\n",
    "display(nv.show_ase(atoms))\n",
    "display(ts['vibfreqs'][:5])"
   ]
  },
  {
   "cell_type": "markdown",
   "id": "72708906",
   "metadata": {},
   "source": [
    "And we can compare the TS-specific conformational free energy with the total value:"
   ]
  },
  {
   "cell_type": "code",
   "execution_count": 8,
   "id": "ac3a1611",
   "metadata": {},
   "outputs": [
    {
     "name": "stdout",
     "output_type": "stream",
     "text": [
      "-1.5225730303877276\n",
      "-1.7077125833311462\n"
     ]
    }
   ],
   "source": [
    "ha_to_kcal = 627.5\n",
    "print(ts['ts_specific_conf_free_energy'] * ha_to_kcal)\n",
    "print(ts['conf_free_energy'] * ha_to_kcal) # only slightly larger in magnitude"
   ]
  },
  {
   "cell_type": "markdown",
   "id": "7a6694e8",
   "metadata": {},
   "source": [
    "We can look at the summary of TS quantities:"
   ]
  },
  {
   "cell_type": "code",
   "execution_count": 9,
   "id": "c081d126",
   "metadata": {
    "scrolled": true
   },
   "outputs": [
    {
     "data": {
      "text/plain": [
       "['ts_nxyz',\n",
       " 'endpoint_nxyz',\n",
       " 'delta_free_energy',\n",
       " 'delta_energy',\n",
       " 'delta_enthalpy',\n",
       " 'delta_conf_free_energy',\n",
       " 'delta_avg_conf_energy',\n",
       " 'delta_entropy_j_mol_k',\n",
       " 'delta_conf_entropy_j_mol_k',\n",
       " 'delta_vib_entropy_j_mol_k',\n",
       " 'endpoint_conf_free_energy',\n",
       " 'ts_conf_free_energy',\n",
       " 'mechanism',\n",
       " 'confnum',\n",
       " 'irc_energies',\n",
       " 'irc_path']"
      ]
     },
     "metadata": {},
     "output_type": "display_data"
    },
    {
     "data": {
      "text/plain": [
       "{'delta_free_energy': 30.507829167013607,\n",
       " 'delta_energy': 34.5287134447445,\n",
       " 'delta_enthalpy': 31.79561419826464,\n",
       " 'delta_conf_free_energy': -0.07470365651806114,\n",
       " 'delta_avg_conf_energy': 0.2569389710023909,\n",
       " 'delta_entropy_j_mol_k': 18.071751033890052,\n",
       " 'delta_conf_entropy_j_mol_k': 1.0483317084406099,\n",
       " 'delta_vib_entropy_j_mol_k': 17.02341932544941,\n",
       " 'endpoint_conf_free_energy': -0.002602406371704517,\n",
       " 'ts_conf_free_energy': -0.0027214543160655716,\n",
       " 'mechanism': 'right_rot',\n",
       " 'confnum': 1}"
      ]
     },
     "metadata": {},
     "output_type": "display_data"
    },
    {
     "data": {
      "application/vnd.jupyter.widget-view+json": {
       "model_id": "d38fdbfaeeac4767b036fa081948fa73",
       "version_major": 2,
       "version_minor": 0
      },
      "text/plain": [
       "NGLWidget(max_frame=1)"
      ]
     },
     "metadata": {},
     "output_type": "display_data"
    },
    {
     "data": {
      "application/vnd.jupyter.widget-view+json": {
       "model_id": "a6a3f9f0170040c1ae23389cb4349974",
       "version_major": 2,
       "version_minor": 0
      },
      "text/plain": [
       "NGLWidget(max_frame=47)"
      ]
     },
     "metadata": {},
     "output_type": "display_data"
    }
   ],
   "source": [
    "cis_dic = sub_dic['summary']['cis']\n",
    "\n",
    "display(list(cis_dic.keys()))\n",
    "display({key: val for key, val in cis_dic.items() if \n",
    "         not any([i in key for i in ['nxyz', 'freqs', 'irc']])})\n",
    "\n",
    "trj = [to_atoms(cis_dic['endpoint_nxyz']), to_atoms(cis_dic['ts_nxyz'])]\n",
    "display(nv.show_asetraj(trj))\n",
    "\n",
    "irc_trj = [to_atoms(i) for i in cis_dic['irc_path']]\n",
    "display(nv.show_asetraj(irc_trj))\n",
    "\n"
   ]
  },
  {
   "cell_type": "markdown",
   "id": "8051defc",
   "metadata": {},
   "source": [
    "The quantities are the same as in the previous tutorials, with the addition of `irc_path` and `irc_energies`, plus `mechanism` and `confnum` for bookeeping (here the mechanism is a \"left\" rotation, and it's the conformer that was originally ranked 5th during conformer generation, but became 1st after eigenvector following).\n",
    "\n",
    "Let's take a look at the singlet-triplet crossings:"
   ]
  },
  {
   "cell_type": "code",
   "execution_count": 10,
   "id": "5575d01a",
   "metadata": {},
   "outputs": [
    {
     "name": "stdout",
     "output_type": "stream",
     "text": [
      "Unstable side: cis\n"
     ]
    },
    {
     "data": {
      "text/plain": [
       "{'delta_free_energy': 30.073152376335447,\n",
       " 'delta_energy': 33.88131416801363,\n",
       " 'delta_enthalpy': 31.283544074735488,\n",
       " 'delta_conf_free_energy': -0.07470365651806114,\n",
       " 'delta_avg_conf_energy': 0.2569389710023909,\n",
       " 'delta_eff_free_energy': 32.301753092272875,\n",
       " 'delta_entropy_j_mol_k': 16.985674546724006,\n",
       " 'delta_conf_entropy_j_mol_k': 1.0483317084406099,\n",
       " 'delta_vib_entropy_j_mol_k': 15.937342838283362,\n",
       " 'delta_eff_entropy_j_mol_k': -14.28873563433339,\n",
       " 'endpoint_conf_free_energy': -0.002602406371704517,\n",
       " 's_t_crossing_conf_free_energy': -0.0027214543160655716,\n",
       " 'endpoint': 'cis',\n",
       " 't_isc': 4.1991980009597345e-12}"
      ]
     },
     "metadata": {},
     "output_type": "display_data"
    }
   ],
   "source": [
    "key = list(info.keys())[0]\n",
    "sub_dic = info[key]\n",
    "\n",
    "unstable = sub_dic['unstable']\n",
    "print(\"Unstable side: %s\" % unstable)\n",
    "\n",
    "summary = sub_dic['summary']\n",
    "s_t_dic = summary['s_t_crossing']\n",
    "stable_s_t = s_t_dic['stable_side']\n",
    "unstable_s_t = s_t_dic['unstable_side']\n",
    "\n",
    "display({key: val for key, val in unstable_s_t.items() if \n",
    "         'nxyz' not in key})"
   ]
  },
  {
   "cell_type": "code",
   "execution_count": 11,
   "id": "ba9ed010",
   "metadata": {},
   "outputs": [
    {
     "data": {
      "application/vnd.jupyter.widget-view+json": {
       "model_id": "cb3be71fca064dbc943a5e8a6f846569",
       "version_major": 2,
       "version_minor": 0
      },
      "text/plain": [
       "NGLWidget(max_frame=2)"
      ]
     },
     "metadata": {},
     "output_type": "display_data"
    }
   ],
   "source": [
    "nxyz_list = [s_t_dic['unstable_side']['endpoint_nxyz'],\n",
    "             s_t_dic['unstable_side']['s_t_crossing_nxyz'],\n",
    "             s_t_dic['stable_side']['s_t_crossing_nxyz']]\n",
    "trj = [to_atoms(i) for i in nxyz_list]\n",
    "display(nv.show_asetraj(trj))"
   ]
  },
  {
   "cell_type": "markdown",
   "id": "00631193",
   "metadata": {},
   "source": [
    "And there you go: you've run a full workflow for your own molecules and analyzed your results!"
   ]
  },
  {
   "cell_type": "code",
   "execution_count": null,
   "id": "a0778b56",
   "metadata": {},
   "outputs": [],
   "source": []
  }
 ],
 "metadata": {
  "kernelspec": {
   "display_name": "Python [conda env:barriers]",
   "language": "python",
   "name": "barriers"
  },
  "language_info": {
   "codemirror_mode": {
    "name": "ipython",
    "version": 3
   },
   "file_extension": ".py",
   "mimetype": "text/x-python",
   "name": "python",
   "nbconvert_exporter": "python",
   "pygments_lexer": "ipython3",
   "version": "3.9.12"
  }
 },
 "nbformat": 4,
 "nbformat_minor": 5
}
